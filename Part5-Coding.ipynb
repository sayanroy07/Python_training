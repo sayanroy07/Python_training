{
 "cells": [
  {
   "cell_type": "markdown",
   "id": "2519926c-15d4-482c-98b8-53cebd8b5085",
   "metadata": {},
   "source": [
    " - Calculate Simple Interest\n",
    " - Calculate Body Mass Index (BMI)\n",
    " - Create a Calculator\n",
    " - Text File I/O\n",
    " - ~ CSV/EXCEL (PANDAS)\n",
    " - Regular Expression"
   ]
  },
  {
   "cell_type": "code",
   "execution_count": null,
   "id": "7d210de3-4004-486e-b971-de364ca23b18",
   "metadata": {},
   "outputs": [],
   "source": [
    "# Simple Interest = Principal X Rate X Time\n",
    "p = int(input(\"Enter the principal\"))\n",
    "r = int(input(\"Enter the rate of interest in decimal\"))\n",
    "t = int(input(\"Enter the time period in years\"))\n",
    "\n",
    "def si(p,r,t):\n",
    "    si = ((p*r*t)/100)\n",
    "    return si\n",
    "\n",
    "interest1 = si(p,r,t)\n",
    "print(\"The Simple Interest is\",interest1)"
   ]
  },
  {
   "cell_type": "code",
   "execution_count": null,
   "id": "3d85b04b-fdde-4b42-971e-e73dbacb23e6",
   "metadata": {},
   "outputs": [],
   "source": [
    "[ 703 * (weight/Height) ]"
   ]
  },
  {
   "cell_type": "code",
   "execution_count": 13,
   "id": "6edb6a20-b338-40fa-82bb-efd16999f68f",
   "metadata": {},
   "outputs": [
    {
     "name": "stdout",
     "output_type": "stream",
     "text": [
      "You are healthy & fit 22.375578703703706\n"
     ]
    }
   ],
   "source": [
    "# Body Mass Index\n",
    "# Weight in pounds  (1kg = 2.2 Pounds)\n",
    "# Height in Inches  (1 feet = 12 inches)\n",
    "w = int(input(\"Enter the Weight in KGs\"))\n",
    "h = int(input(\"Enter the Height in inches\"))\n",
    "\n",
    "def bmi(w,h):\n",
    "    bmi = (((w*2.2)/(h*h))*703)\n",
    "    if bmi <= 19:\n",
    "        print(\"You are underweight\")\n",
    "    elif 20 <= bmi < 30:\n",
    "        print(\"You are healthy & fit\")\n",
    "    else:\n",
    "        print(\"You are Over Weight\")\n",
    "        \n",
    "bmi1 = bmi(w,h)\n",
    "#print(\"The Body Mass Index is: \",bmi1)"
   ]
  },
  {
   "cell_type": "code",
   "execution_count": null,
   "id": "e6a48400-f79d-4565-bf27-39a3ad8fb637",
   "metadata": {},
   "outputs": [],
   "source": [
    "# Calculator:\n",
    "a = int(input(\"Enter number\"))\n",
    "b = int(input(\"Enter number\"))\n",
    "\n",
    "def add(a,b):\n",
    "    return a+b\n",
    "def sub(a,b):\n",
    "    return a-b\n",
    "def mult(a,b):\n",
    "    return a*b\n",
    "def div(a,b):\n",
    "    return a/b\n",
    "\n",
    "select = input(\"Please select accordingly: 1: Addition 2: Subtraction 3: Multiplication 4: Division\")\n",
    "if select==1:\n",
    "    f = add(a,b)\n",
    "    print(\"Your Addition value is: \",f)\n",
    "elif select==2:\n",
    "    f = sub(a,b)\n",
    "    print(\"Your Subtraction value is: \",f)\n",
    "elif select==3:\n",
    "    f = mult(a,b)\n",
    "    print(\"Your Multiplication value is: \",f)\n",
    "elif select==4:\n",
    "    f = div(a,b)\n",
    "    print(\"Your Division value is: \",f)\n",
    "else:\n",
    "    print(\"Please select within 1/2/3/4\")\n",
    "    "
   ]
  },
  {
   "cell_type": "code",
   "execution_count": null,
   "id": "f026c51b-a22b-45ee-8018-586544c3992f",
   "metadata": {},
   "outputs": [],
   "source": [
    "# File I/O\n",
    "========= ===============================================================\n",
    "Character Meaning\n",
    "--------- ---------------------------------------------------------------\n",
    "'r'       open for reading (default)\n",
    "'w'       open for writing, truncating the file first\n",
    "'x'       create a new file and open it for writing\n",
    "'a'       open for writing, appending to the end of the file if it exists\n",
    "'b'       binary mode\n",
    "'t'       text mode (default)\n",
    "'+'       open a disk file for updating (reading and writing)\n",
    "========= ==============================================================="
   ]
  },
  {
   "cell_type": "code",
   "execution_count": 24,
   "id": "ead6ec51-75cd-423e-a3b4-ef1daf654603",
   "metadata": {},
   "outputs": [
    {
     "name": "stdout",
     "output_type": "stream",
     "text": [
      "I am adding this new lineI am adding this new lineI am adding this new lineI am adding this new line\n"
     ]
    }
   ],
   "source": [
    "store = open(r\"C:\\Users\\User\\Python\\Training\\python.txt\",\"a\")\n",
    "store.write(\"I am adding this new line\")\n",
    "store.close()\n",
    "\n",
    "store = open(r\"C:\\Users\\User\\Python\\Training\\python.txt\",\"r\")\n",
    "print(store.read())\n",
    "\n"
   ]
  },
  {
   "cell_type": "code",
   "execution_count": 1,
   "id": "4caec948-5850-4104-aa31-c4edd5e0798c",
   "metadata": {},
   "outputs": [],
   "source": [
    "# Regular Expression\n",
    "# String = \"I am learning Deep Learning\"\n",
    "# Phone_no \"0124-968-854789\"\n",
    "import re, os, warnings\n"
   ]
  },
  {
   "cell_type": "markdown",
   "id": "1470f9fc-fc83-40b0-876d-18cb20c0217e",
   "metadata": {},
   "source": [
    "- Function\tDescription\n",
    "- findall\tReturns a list containing all matches\n",
    "- search\tReturns a Match object if there is a match anywhere in the string\n",
    "- split\tReturns a list where the string has been split at each match\n",
    "- sub\tReplaces one or many matches with a string"
   ]
  },
  {
   "cell_type": "code",
   "execution_count": 20,
   "id": "775250a4-b4da-4ecd-b592-2161879f2a8c",
   "metadata": {},
   "outputs": [
    {
     "data": {
      "text/plain": [
       "[]"
      ]
     },
     "execution_count": 20,
     "metadata": {},
     "output_type": "execute_result"
    }
   ],
   "source": [
    "import re\n",
    "\n",
    "txt = \"The rain in Spain\"\n",
    "x = re.findall(\"er\",txt)\n",
    "x"
   ]
  },
  {
   "cell_type": "code",
   "execution_count": 25,
   "id": "dd97647f-ddec-48d3-a8e0-c3fc7514e853",
   "metadata": {},
   "outputs": [
    {
     "name": "stdout",
     "output_type": "stream",
     "text": [
      "None\n"
     ]
    }
   ],
   "source": [
    "txt = \"I am learning Python & data Science\"\n",
    "x = re.search(\"python\",txt)\n",
    "\n",
    "print(x)"
   ]
  },
  {
   "cell_type": "code",
   "execution_count": 32,
   "id": "5bd1a8e6-5f42-42c0-aac8-6a76b003eb0c",
   "metadata": {},
   "outputs": [
    {
     "name": "stdout",
     "output_type": "stream",
     "text": [
      "I\n",
      "am\n",
      "learning\n",
      "Python\n",
      "&\n",
      "data\n",
      "Science\n"
     ]
    }
   ],
   "source": [
    "txt = \"I am learning Python & data Science\"\n",
    "x = re.split(\" \",txt)\n",
    "for i in x:\n",
    "    print(i)"
   ]
  },
  {
   "cell_type": "code",
   "execution_count": 36,
   "id": "2718d032-b08f-4fd4-b642-23cee71010f8",
   "metadata": {},
   "outputs": [
    {
     "name": "stdout",
     "output_type": "stream",
     "text": [
      "854789 0124\n"
     ]
    }
   ],
   "source": [
    "phone = \"0124-968-854789\"\n",
    "x = re.split(\"-\",phone)\n",
    "\n",
    "county_code = x[0]\n",
    "area_code = x[1]\n",
    "phone = x[2]\n",
    "print(phone, county_code)"
   ]
  },
  {
   "cell_type": "code",
   "execution_count": 40,
   "id": "68048bed-0018-422f-bf08-1d1505024e9d",
   "metadata": {},
   "outputs": [
    {
     "name": "stdout",
     "output_type": "stream",
     "text": [
      "I am learning Java & data Science\n"
     ]
    }
   ],
   "source": [
    "txt = \"I am learning python & data Science\"\n",
    "# Shift + Tab\n",
    "# Case Sensitive\n",
    "x = re.sub(\"python\",\"Java\",txt)\n",
    "print(x)"
   ]
  },
  {
   "cell_type": "code",
   "execution_count": null,
   "id": "c8469967-efa5-4e82-80c9-5359709016f9",
   "metadata": {},
   "outputs": [],
   "source": [
    "Character\tDescription\tExample\tTry it\n",
    "[]\tA set of characters\t\"[a-m]\"\t\n",
    "\\\tSignals a special sequence (can also be used to escape special characters)\t\"\\d\"\t\n",
    ".\tAny character (except newline character)\t\"he..o\"\t\n",
    "^\tStarts with\t\"^hello\"\t\n",
    "$\tEnds with\t\"planet$\"\t\n",
    "*\tZero or more occurrences\t\"he.*o\"\t\n",
    "+\tOne or more occurrences\t\"he.+o\"\t\n",
    "?\tZero or one occurrences\t\"he.?o\"\t\n",
    "{}\tExactly the specified number of occurrences\t\"he.{2}o\"\t\n",
    "|\tEither or\t\"falls|stays\"\t\n",
    "()\tCapture and group"
   ]
  },
  {
   "cell_type": "code",
   "execution_count": null,
   "id": "bafcdeca-2623-4530-91a0-24e972d0aa14",
   "metadata": {},
   "outputs": [],
   "source": []
  },
  {
   "cell_type": "code",
   "execution_count": null,
   "id": "9709a9de-eadb-42da-8056-5f56b76ab775",
   "metadata": {},
   "outputs": [],
   "source": []
  },
  {
   "cell_type": "code",
   "execution_count": null,
   "id": "d9e549ce-aa66-4099-a1a1-40f94f4fc7bd",
   "metadata": {},
   "outputs": [],
   "source": []
  }
 ],
 "metadata": {
  "kernelspec": {
   "display_name": "Python 3 (ipykernel)",
   "language": "python",
   "name": "python3"
  },
  "language_info": {
   "codemirror_mode": {
    "name": "ipython",
    "version": 3
   },
   "file_extension": ".py",
   "mimetype": "text/x-python",
   "name": "python",
   "nbconvert_exporter": "python",
   "pygments_lexer": "ipython3",
   "version": "3.12.2"
  }
 },
 "nbformat": 4,
 "nbformat_minor": 5
}
