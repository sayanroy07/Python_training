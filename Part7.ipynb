{
 "cells": [
  {
   "cell_type": "markdown",
   "id": "f7968450-fe98-4cfa-b6b6-c82ed0fd4c0e",
   "metadata": {},
   "source": [
    "- DataFrames\n",
    "- Indexing\n",
    "- Merging\n",
    "- Data manipulations\n",
    "- Joins\n",
    "- Cleaning\t\t\t"
   ]
  },
  {
   "cell_type": "code",
   "execution_count": 7,
   "id": "7830d49c-0497-44bd-845b-e1aa90af1f40",
   "metadata": {},
   "outputs": [
    {
     "data": {
      "text/html": [
       "<div>\n",
       "<style scoped>\n",
       "    .dataframe tbody tr th:only-of-type {\n",
       "        vertical-align: middle;\n",
       "    }\n",
       "\n",
       "    .dataframe tbody tr th {\n",
       "        vertical-align: top;\n",
       "    }\n",
       "\n",
       "    .dataframe thead th {\n",
       "        text-align: right;\n",
       "    }\n",
       "</style>\n",
       "<table border=\"1\" class=\"dataframe\">\n",
       "  <thead>\n",
       "    <tr style=\"text-align: right;\">\n",
       "      <th></th>\n",
       "      <th>Player</th>\n",
       "      <th>Pos</th>\n",
       "      <th>Height</th>\n",
       "      <th>Weight</th>\n",
       "      <th>Age</th>\n",
       "      <th>School</th>\n",
       "      <th>BDate</th>\n",
       "    </tr>\n",
       "  </thead>\n",
       "  <tbody>\n",
       "    <tr>\n",
       "      <th>0</th>\n",
       "      <td>Vitor Faverani</td>\n",
       "      <td>C</td>\n",
       "      <td>83</td>\n",
       "      <td>260</td>\n",
       "      <td>25</td>\n",
       "      <td>NaN</td>\n",
       "      <td>1988-05-05</td>\n",
       "    </tr>\n",
       "    <tr>\n",
       "      <th>1</th>\n",
       "      <td>Avery Bradley</td>\n",
       "      <td>G</td>\n",
       "      <td>74</td>\n",
       "      <td>180</td>\n",
       "      <td>22</td>\n",
       "      <td>Texas</td>\n",
       "      <td>1990-11-26</td>\n",
       "    </tr>\n",
       "    <tr>\n",
       "      <th>2</th>\n",
       "      <td>Keith Bogans</td>\n",
       "      <td>G</td>\n",
       "      <td>77</td>\n",
       "      <td>215</td>\n",
       "      <td>33</td>\n",
       "      <td>Kentucky</td>\n",
       "      <td>1980-05-12</td>\n",
       "    </tr>\n",
       "    <tr>\n",
       "      <th>3</th>\n",
       "      <td>Jared Sullinger</td>\n",
       "      <td>F</td>\n",
       "      <td>81</td>\n",
       "      <td>260</td>\n",
       "      <td>21</td>\n",
       "      <td>Ohio State</td>\n",
       "      <td>1992-03-04</td>\n",
       "    </tr>\n",
       "    <tr>\n",
       "      <th>4</th>\n",
       "      <td>Jeff Green</td>\n",
       "      <td>F</td>\n",
       "      <td>81</td>\n",
       "      <td>235</td>\n",
       "      <td>27</td>\n",
       "      <td>Georgetown</td>\n",
       "      <td>1986-08-28</td>\n",
       "    </tr>\n",
       "  </tbody>\n",
       "</table>\n",
       "</div>"
      ],
      "text/plain": [
       "            Player Pos  Height  Weight  Age      School      BDate\n",
       "0   Vitor Faverani   C      83     260   25         NaN 1988-05-05\n",
       "1    Avery Bradley   G      74     180   22       Texas 1990-11-26\n",
       "2     Keith Bogans   G      77     215   33    Kentucky 1980-05-12\n",
       "3  Jared Sullinger   F      81     260   21  Ohio State 1992-03-04\n",
       "4       Jeff Green   F      81     235   27  Georgetown 1986-08-28"
      ]
     },
     "execution_count": 7,
     "metadata": {},
     "output_type": "execute_result"
    }
   ],
   "source": [
    "import pandas as pd\n",
    "df = pd.read_excel(r\"C:\\Users\\User\\Python\\IIITB\\Central Limit Theorem\\nba_ht_wt.xlsx\",engine=\"openpyxl\")\n",
    "df.head()"
   ]
  },
  {
   "cell_type": "code",
   "execution_count": 9,
   "id": "823d495a-72d1-48df-be0d-31a2c3752069",
   "metadata": {},
   "outputs": [
    {
     "name": "stdout",
     "output_type": "stream",
     "text": [
      "<class 'pandas.core.frame.DataFrame'>\n",
      "RangeIndex: 505 entries, 0 to 504\n",
      "Data columns (total 7 columns):\n",
      " #   Column  Non-Null Count  Dtype         \n",
      "---  ------  --------------  -----         \n",
      " 0   Player  505 non-null    object        \n",
      " 1   Pos     505 non-null    object        \n",
      " 2   Height  505 non-null    int64         \n",
      " 3   Weight  505 non-null    int64         \n",
      " 4   Age     505 non-null    int64         \n",
      " 5   School  430 non-null    object        \n",
      " 6   BDate   505 non-null    datetime64[ns]\n",
      "dtypes: datetime64[ns](1), int64(3), object(3)\n",
      "memory usage: 27.7+ KB\n"
     ]
    }
   ],
   "source": [
    "df.info()"
   ]
  },
  {
   "cell_type": "code",
   "execution_count": 10,
   "id": "88185000-4c2a-48e8-8571-ac75dd8c172a",
   "metadata": {},
   "outputs": [
    {
     "data": {
      "text/plain": [
       "(505, 7)"
      ]
     },
     "execution_count": 10,
     "metadata": {},
     "output_type": "execute_result"
    }
   ],
   "source": [
    "df.shape\n",
    "# None\n",
    "# Null\n",
    "# Nan\n",
    "# nan"
   ]
  },
  {
   "cell_type": "code",
   "execution_count": 12,
   "id": "17b6ac52-6f95-4122-b64e-b5d88f5d5883",
   "metadata": {},
   "outputs": [
    {
     "data": {
      "text/plain": [
       "Player     0\n",
       "Pos        0\n",
       "Height     0\n",
       "Weight     0\n",
       "Age        0\n",
       "School    75\n",
       "BDate      0\n",
       "dtype: int64"
      ]
     },
     "execution_count": 12,
     "metadata": {},
     "output_type": "execute_result"
    }
   ],
   "source": [
    "df.isnull().sum()"
   ]
  },
  {
   "cell_type": "code",
   "execution_count": 16,
   "id": "4694cd12-34f8-4c1c-be34-7b85cb05d8ee",
   "metadata": {},
   "outputs": [
    {
     "data": {
      "text/plain": [
       "Index(['Player', 'Pos', 'Height', 'Weight', 'Age', 'School', 'BDate'], dtype='object')"
      ]
     },
     "execution_count": 16,
     "metadata": {},
     "output_type": "execute_result"
    }
   ],
   "source": [
    "df.columns"
   ]
  },
  {
   "cell_type": "code",
   "execution_count": 24,
   "id": "a35ba6ca-63f1-450e-a06f-e13e90d5feef",
   "metadata": {},
   "outputs": [
    {
     "data": {
      "text/html": [
       "<div>\n",
       "<style scoped>\n",
       "    .dataframe tbody tr th:only-of-type {\n",
       "        vertical-align: middle;\n",
       "    }\n",
       "\n",
       "    .dataframe tbody tr th {\n",
       "        vertical-align: top;\n",
       "    }\n",
       "\n",
       "    .dataframe thead th {\n",
       "        text-align: right;\n",
       "    }\n",
       "</style>\n",
       "<table border=\"1\" class=\"dataframe\">\n",
       "  <thead>\n",
       "    <tr style=\"text-align: right;\">\n",
       "      <th></th>\n",
       "      <th>Pos</th>\n",
       "      <th>Player</th>\n",
       "    </tr>\n",
       "  </thead>\n",
       "  <tbody>\n",
       "    <tr>\n",
       "      <th>0</th>\n",
       "      <td>C</td>\n",
       "      <td>Vitor Faverani</td>\n",
       "    </tr>\n",
       "    <tr>\n",
       "      <th>1</th>\n",
       "      <td>G</td>\n",
       "      <td>Avery Bradley</td>\n",
       "    </tr>\n",
       "    <tr>\n",
       "      <th>2</th>\n",
       "      <td>G</td>\n",
       "      <td>Keith Bogans</td>\n",
       "    </tr>\n",
       "    <tr>\n",
       "      <th>3</th>\n",
       "      <td>F</td>\n",
       "      <td>Jared Sullinger</td>\n",
       "    </tr>\n",
       "    <tr>\n",
       "      <th>4</th>\n",
       "      <td>F</td>\n",
       "      <td>Jeff Green</td>\n",
       "    </tr>\n",
       "  </tbody>\n",
       "</table>\n",
       "</div>"
      ],
      "text/plain": [
       "  Pos           Player\n",
       "0   C   Vitor Faverani\n",
       "1   G    Avery Bradley\n",
       "2   G     Keith Bogans\n",
       "3   F  Jared Sullinger\n",
       "4   F       Jeff Green"
      ]
     },
     "execution_count": 24,
     "metadata": {},
     "output_type": "execute_result"
    }
   ],
   "source": [
    "df[['Pos','Player']].head()"
   ]
  },
  {
   "cell_type": "markdown",
   "id": "00921d40-1a70-40f9-b340-9c78f7c88a3a",
   "metadata": {},
   "source": [
    " - dataframe.loc[] - label names of rows/cols - can be used when we dont know the exact location \n",
    " - dataframe.iloc[] - index - position of rows/cols - will be used when we know the exact location"
   ]
  },
  {
   "cell_type": "code",
   "execution_count": 34,
   "id": "953b4dd1-4ff0-4ade-ac57-25d728a35bd8",
   "metadata": {},
   "outputs": [
    {
     "data": {
      "text/html": [
       "<div>\n",
       "<style scoped>\n",
       "    .dataframe tbody tr th:only-of-type {\n",
       "        vertical-align: middle;\n",
       "    }\n",
       "\n",
       "    .dataframe tbody tr th {\n",
       "        vertical-align: top;\n",
       "    }\n",
       "\n",
       "    .dataframe thead th {\n",
       "        text-align: right;\n",
       "    }\n",
       "</style>\n",
       "<table border=\"1\" class=\"dataframe\">\n",
       "  <thead>\n",
       "    <tr style=\"text-align: right;\">\n",
       "      <th></th>\n",
       "      <th>Player</th>\n",
       "      <th>Pos</th>\n",
       "      <th>Height</th>\n",
       "      <th>Weight</th>\n",
       "      <th>Age</th>\n",
       "      <th>School</th>\n",
       "      <th>BDate</th>\n",
       "    </tr>\n",
       "  </thead>\n",
       "  <tbody>\n",
       "    <tr>\n",
       "      <th>0</th>\n",
       "      <td>Vitor Faverani</td>\n",
       "      <td>C</td>\n",
       "      <td>83</td>\n",
       "      <td>260</td>\n",
       "      <td>25</td>\n",
       "      <td>NaN</td>\n",
       "      <td>1988-05-05</td>\n",
       "    </tr>\n",
       "    <tr>\n",
       "      <th>1</th>\n",
       "      <td>Avery Bradley</td>\n",
       "      <td>G</td>\n",
       "      <td>74</td>\n",
       "      <td>180</td>\n",
       "      <td>22</td>\n",
       "      <td>Texas</td>\n",
       "      <td>1990-11-26</td>\n",
       "    </tr>\n",
       "    <tr>\n",
       "      <th>2</th>\n",
       "      <td>Keith Bogans</td>\n",
       "      <td>G</td>\n",
       "      <td>77</td>\n",
       "      <td>215</td>\n",
       "      <td>33</td>\n",
       "      <td>Kentucky</td>\n",
       "      <td>1980-05-12</td>\n",
       "    </tr>\n",
       "    <tr>\n",
       "      <th>3</th>\n",
       "      <td>Jared Sullinger</td>\n",
       "      <td>F</td>\n",
       "      <td>81</td>\n",
       "      <td>260</td>\n",
       "      <td>21</td>\n",
       "      <td>Ohio State</td>\n",
       "      <td>1992-03-04</td>\n",
       "    </tr>\n",
       "    <tr>\n",
       "      <th>4</th>\n",
       "      <td>Jeff Green</td>\n",
       "      <td>F</td>\n",
       "      <td>81</td>\n",
       "      <td>235</td>\n",
       "      <td>27</td>\n",
       "      <td>Georgetown</td>\n",
       "      <td>1986-08-28</td>\n",
       "    </tr>\n",
       "    <tr>\n",
       "      <th>5</th>\n",
       "      <td>Rajon Rondo</td>\n",
       "      <td>G</td>\n",
       "      <td>73</td>\n",
       "      <td>171</td>\n",
       "      <td>27</td>\n",
       "      <td>Kentucky</td>\n",
       "      <td>1986-02-22</td>\n",
       "    </tr>\n",
       "  </tbody>\n",
       "</table>\n",
       "</div>"
      ],
      "text/plain": [
       "            Player Pos  Height  Weight  Age      School      BDate\n",
       "0   Vitor Faverani   C      83     260   25         NaN 1988-05-05\n",
       "1    Avery Bradley   G      74     180   22       Texas 1990-11-26\n",
       "2     Keith Bogans   G      77     215   33    Kentucky 1980-05-12\n",
       "3  Jared Sullinger   F      81     260   21  Ohio State 1992-03-04\n",
       "4       Jeff Green   F      81     235   27  Georgetown 1986-08-28\n",
       "5      Rajon Rondo   G      73     171   27    Kentucky 1986-02-22"
      ]
     },
     "execution_count": 34,
     "metadata": {},
     "output_type": "execute_result"
    }
   ],
   "source": [
    "df.loc[0:5]"
   ]
  },
  {
   "cell_type": "code",
   "execution_count": 47,
   "id": "6e39f08e-01e1-4c13-8422-0053d2db998a",
   "metadata": {},
   "outputs": [
    {
     "data": {
      "text/html": [
       "<div>\n",
       "<style scoped>\n",
       "    .dataframe tbody tr th:only-of-type {\n",
       "        vertical-align: middle;\n",
       "    }\n",
       "\n",
       "    .dataframe tbody tr th {\n",
       "        vertical-align: top;\n",
       "    }\n",
       "\n",
       "    .dataframe thead th {\n",
       "        text-align: right;\n",
       "    }\n",
       "</style>\n",
       "<table border=\"1\" class=\"dataframe\">\n",
       "  <thead>\n",
       "    <tr style=\"text-align: right;\">\n",
       "      <th></th>\n",
       "      <th>name</th>\n",
       "      <th>age</th>\n",
       "    </tr>\n",
       "  </thead>\n",
       "  <tbody>\n",
       "    <tr>\n",
       "      <th>a1</th>\n",
       "      <td>a</td>\n",
       "      <td>4</td>\n",
       "    </tr>\n",
       "    <tr>\n",
       "      <th>a2</th>\n",
       "      <td>b</td>\n",
       "      <td>6</td>\n",
       "    </tr>\n",
       "    <tr>\n",
       "      <th>a3</th>\n",
       "      <td>c</td>\n",
       "      <td>7</td>\n",
       "    </tr>\n",
       "  </tbody>\n",
       "</table>\n",
       "</div>"
      ],
      "text/plain": [
       "   name  age\n",
       "a1    a    4\n",
       "a2    b    6\n",
       "a3    c    7"
      ]
     },
     "execution_count": 47,
     "metadata": {},
     "output_type": "execute_result"
    }
   ],
   "source": [
    "dict = {'name':['a','b','c'],'age':[4,6,7]}\n",
    "df1 = pd.DataFrame(dict,index=['a1','a2','a3'])\n",
    "df1"
   ]
  },
  {
   "cell_type": "code",
   "execution_count": 48,
   "id": "fc6384f2-e782-4995-b5a4-de69296c4562",
   "metadata": {},
   "outputs": [
    {
     "data": {
      "text/plain": [
       "name    b\n",
       "age     6\n",
       "Name: a2, dtype: object"
      ]
     },
     "execution_count": 48,
     "metadata": {},
     "output_type": "execute_result"
    }
   ],
   "source": [
    "df1.loc['a2']"
   ]
  },
  {
   "cell_type": "code",
   "execution_count": 50,
   "id": "15fb4654-47da-4aaa-9363-8633c8145f12",
   "metadata": {},
   "outputs": [
    {
     "ename": "KeyError",
     "evalue": "0",
     "output_type": "error",
     "traceback": [
      "\u001b[1;31m---------------------------------------------------------------------------\u001b[0m",
      "\u001b[1;31mKeyError\u001b[0m                                  Traceback (most recent call last)",
      "File \u001b[1;32m~\\AppData\\Local\\Programs\\Python\\Python312\\Lib\\site-packages\\pandas\\core\\indexes\\base.py:3805\u001b[0m, in \u001b[0;36mIndex.get_loc\u001b[1;34m(self, key)\u001b[0m\n\u001b[0;32m   3804\u001b[0m \u001b[38;5;28;01mtry\u001b[39;00m:\n\u001b[1;32m-> 3805\u001b[0m     \u001b[38;5;28;01mreturn\u001b[39;00m \u001b[38;5;28;43mself\u001b[39;49m\u001b[38;5;241;43m.\u001b[39;49m\u001b[43m_engine\u001b[49m\u001b[38;5;241;43m.\u001b[39;49m\u001b[43mget_loc\u001b[49m\u001b[43m(\u001b[49m\u001b[43mcasted_key\u001b[49m\u001b[43m)\u001b[49m\n\u001b[0;32m   3806\u001b[0m \u001b[38;5;28;01mexcept\u001b[39;00m \u001b[38;5;167;01mKeyError\u001b[39;00m \u001b[38;5;28;01mas\u001b[39;00m err:\n",
      "File \u001b[1;32mindex.pyx:167\u001b[0m, in \u001b[0;36mpandas._libs.index.IndexEngine.get_loc\u001b[1;34m()\u001b[0m\n",
      "File \u001b[1;32mindex.pyx:196\u001b[0m, in \u001b[0;36mpandas._libs.index.IndexEngine.get_loc\u001b[1;34m()\u001b[0m\n",
      "File \u001b[1;32mpandas\\\\_libs\\\\hashtable_class_helper.pxi:7081\u001b[0m, in \u001b[0;36mpandas._libs.hashtable.PyObjectHashTable.get_item\u001b[1;34m()\u001b[0m\n",
      "File \u001b[1;32mpandas\\\\_libs\\\\hashtable_class_helper.pxi:7089\u001b[0m, in \u001b[0;36mpandas._libs.hashtable.PyObjectHashTable.get_item\u001b[1;34m()\u001b[0m\n",
      "\u001b[1;31mKeyError\u001b[0m: 0",
      "\nThe above exception was the direct cause of the following exception:\n",
      "\u001b[1;31mKeyError\u001b[0m                                  Traceback (most recent call last)",
      "Cell \u001b[1;32mIn[50], line 1\u001b[0m\n\u001b[1;32m----> 1\u001b[0m \u001b[43mdf1\u001b[49m\u001b[38;5;241;43m.\u001b[39;49m\u001b[43mloc\u001b[49m\u001b[43m[\u001b[49m\u001b[38;5;241;43m0\u001b[39;49m\u001b[43m]\u001b[49m\n",
      "File \u001b[1;32m~\\AppData\\Local\\Programs\\Python\\Python312\\Lib\\site-packages\\pandas\\core\\indexing.py:1191\u001b[0m, in \u001b[0;36m_LocationIndexer.__getitem__\u001b[1;34m(self, key)\u001b[0m\n\u001b[0;32m   1189\u001b[0m maybe_callable \u001b[38;5;241m=\u001b[39m com\u001b[38;5;241m.\u001b[39mapply_if_callable(key, \u001b[38;5;28mself\u001b[39m\u001b[38;5;241m.\u001b[39mobj)\n\u001b[0;32m   1190\u001b[0m maybe_callable \u001b[38;5;241m=\u001b[39m \u001b[38;5;28mself\u001b[39m\u001b[38;5;241m.\u001b[39m_check_deprecated_callable_usage(key, maybe_callable)\n\u001b[1;32m-> 1191\u001b[0m \u001b[38;5;28;01mreturn\u001b[39;00m \u001b[38;5;28;43mself\u001b[39;49m\u001b[38;5;241;43m.\u001b[39;49m\u001b[43m_getitem_axis\u001b[49m\u001b[43m(\u001b[49m\u001b[43mmaybe_callable\u001b[49m\u001b[43m,\u001b[49m\u001b[43m \u001b[49m\u001b[43maxis\u001b[49m\u001b[38;5;241;43m=\u001b[39;49m\u001b[43maxis\u001b[49m\u001b[43m)\u001b[49m\n",
      "File \u001b[1;32m~\\AppData\\Local\\Programs\\Python\\Python312\\Lib\\site-packages\\pandas\\core\\indexing.py:1431\u001b[0m, in \u001b[0;36m_LocIndexer._getitem_axis\u001b[1;34m(self, key, axis)\u001b[0m\n\u001b[0;32m   1429\u001b[0m \u001b[38;5;66;03m# fall thru to straight lookup\u001b[39;00m\n\u001b[0;32m   1430\u001b[0m \u001b[38;5;28mself\u001b[39m\u001b[38;5;241m.\u001b[39m_validate_key(key, axis)\n\u001b[1;32m-> 1431\u001b[0m \u001b[38;5;28;01mreturn\u001b[39;00m \u001b[38;5;28;43mself\u001b[39;49m\u001b[38;5;241;43m.\u001b[39;49m\u001b[43m_get_label\u001b[49m\u001b[43m(\u001b[49m\u001b[43mkey\u001b[49m\u001b[43m,\u001b[49m\u001b[43m \u001b[49m\u001b[43maxis\u001b[49m\u001b[38;5;241;43m=\u001b[39;49m\u001b[43maxis\u001b[49m\u001b[43m)\u001b[49m\n",
      "File \u001b[1;32m~\\AppData\\Local\\Programs\\Python\\Python312\\Lib\\site-packages\\pandas\\core\\indexing.py:1381\u001b[0m, in \u001b[0;36m_LocIndexer._get_label\u001b[1;34m(self, label, axis)\u001b[0m\n\u001b[0;32m   1379\u001b[0m \u001b[38;5;28;01mdef\u001b[39;00m \u001b[38;5;21m_get_label\u001b[39m(\u001b[38;5;28mself\u001b[39m, label, axis: AxisInt):\n\u001b[0;32m   1380\u001b[0m     \u001b[38;5;66;03m# GH#5567 this will fail if the label is not present in the axis.\u001b[39;00m\n\u001b[1;32m-> 1381\u001b[0m     \u001b[38;5;28;01mreturn\u001b[39;00m \u001b[38;5;28;43mself\u001b[39;49m\u001b[38;5;241;43m.\u001b[39;49m\u001b[43mobj\u001b[49m\u001b[38;5;241;43m.\u001b[39;49m\u001b[43mxs\u001b[49m\u001b[43m(\u001b[49m\u001b[43mlabel\u001b[49m\u001b[43m,\u001b[49m\u001b[43m \u001b[49m\u001b[43maxis\u001b[49m\u001b[38;5;241;43m=\u001b[39;49m\u001b[43maxis\u001b[49m\u001b[43m)\u001b[49m\n",
      "File \u001b[1;32m~\\AppData\\Local\\Programs\\Python\\Python312\\Lib\\site-packages\\pandas\\core\\generic.py:4298\u001b[0m, in \u001b[0;36mNDFrame.xs\u001b[1;34m(self, key, axis, level, drop_level)\u001b[0m\n\u001b[0;32m   4296\u001b[0m             new_index \u001b[38;5;241m=\u001b[39m index[loc]\n\u001b[0;32m   4297\u001b[0m \u001b[38;5;28;01melse\u001b[39;00m:\n\u001b[1;32m-> 4298\u001b[0m     loc \u001b[38;5;241m=\u001b[39m \u001b[43mindex\u001b[49m\u001b[38;5;241;43m.\u001b[39;49m\u001b[43mget_loc\u001b[49m\u001b[43m(\u001b[49m\u001b[43mkey\u001b[49m\u001b[43m)\u001b[49m\n\u001b[0;32m   4300\u001b[0m     \u001b[38;5;28;01mif\u001b[39;00m \u001b[38;5;28misinstance\u001b[39m(loc, np\u001b[38;5;241m.\u001b[39mndarray):\n\u001b[0;32m   4301\u001b[0m         \u001b[38;5;28;01mif\u001b[39;00m loc\u001b[38;5;241m.\u001b[39mdtype \u001b[38;5;241m==\u001b[39m np\u001b[38;5;241m.\u001b[39mbool_:\n",
      "File \u001b[1;32m~\\AppData\\Local\\Programs\\Python\\Python312\\Lib\\site-packages\\pandas\\core\\indexes\\base.py:3812\u001b[0m, in \u001b[0;36mIndex.get_loc\u001b[1;34m(self, key)\u001b[0m\n\u001b[0;32m   3807\u001b[0m     \u001b[38;5;28;01mif\u001b[39;00m \u001b[38;5;28misinstance\u001b[39m(casted_key, \u001b[38;5;28mslice\u001b[39m) \u001b[38;5;129;01mor\u001b[39;00m (\n\u001b[0;32m   3808\u001b[0m         \u001b[38;5;28misinstance\u001b[39m(casted_key, abc\u001b[38;5;241m.\u001b[39mIterable)\n\u001b[0;32m   3809\u001b[0m         \u001b[38;5;129;01mand\u001b[39;00m \u001b[38;5;28many\u001b[39m(\u001b[38;5;28misinstance\u001b[39m(x, \u001b[38;5;28mslice\u001b[39m) \u001b[38;5;28;01mfor\u001b[39;00m x \u001b[38;5;129;01min\u001b[39;00m casted_key)\n\u001b[0;32m   3810\u001b[0m     ):\n\u001b[0;32m   3811\u001b[0m         \u001b[38;5;28;01mraise\u001b[39;00m InvalidIndexError(key)\n\u001b[1;32m-> 3812\u001b[0m     \u001b[38;5;28;01mraise\u001b[39;00m \u001b[38;5;167;01mKeyError\u001b[39;00m(key) \u001b[38;5;28;01mfrom\u001b[39;00m \u001b[38;5;21;01merr\u001b[39;00m\n\u001b[0;32m   3813\u001b[0m \u001b[38;5;28;01mexcept\u001b[39;00m \u001b[38;5;167;01mTypeError\u001b[39;00m:\n\u001b[0;32m   3814\u001b[0m     \u001b[38;5;66;03m# If we have a listlike key, _check_indexing_error will raise\u001b[39;00m\n\u001b[0;32m   3815\u001b[0m     \u001b[38;5;66;03m#  InvalidIndexError. Otherwise we fall through and re-raise\u001b[39;00m\n\u001b[0;32m   3816\u001b[0m     \u001b[38;5;66;03m#  the TypeError.\u001b[39;00m\n\u001b[0;32m   3817\u001b[0m     \u001b[38;5;28mself\u001b[39m\u001b[38;5;241m.\u001b[39m_check_indexing_error(key)\n",
      "\u001b[1;31mKeyError\u001b[0m: 0"
     ]
    }
   ],
   "source": [
    "df1.loc[0]"
   ]
  },
  {
   "cell_type": "code",
   "execution_count": 49,
   "id": "0f5c4468-c069-4d3a-ad18-961ad6b8140c",
   "metadata": {},
   "outputs": [
    {
     "data": {
      "text/html": [
       "<div>\n",
       "<style scoped>\n",
       "    .dataframe tbody tr th:only-of-type {\n",
       "        vertical-align: middle;\n",
       "    }\n",
       "\n",
       "    .dataframe tbody tr th {\n",
       "        vertical-align: top;\n",
       "    }\n",
       "\n",
       "    .dataframe thead th {\n",
       "        text-align: right;\n",
       "    }\n",
       "</style>\n",
       "<table border=\"1\" class=\"dataframe\">\n",
       "  <thead>\n",
       "    <tr style=\"text-align: right;\">\n",
       "      <th></th>\n",
       "      <th>Player</th>\n",
       "      <th>Pos</th>\n",
       "      <th>Height</th>\n",
       "      <th>Weight</th>\n",
       "      <th>Age</th>\n",
       "      <th>School</th>\n",
       "      <th>BDate</th>\n",
       "    </tr>\n",
       "  </thead>\n",
       "  <tbody>\n",
       "    <tr>\n",
       "      <th>0</th>\n",
       "      <td>Vitor Faverani</td>\n",
       "      <td>C</td>\n",
       "      <td>83</td>\n",
       "      <td>260</td>\n",
       "      <td>25</td>\n",
       "      <td>NaN</td>\n",
       "      <td>1988-05-05</td>\n",
       "    </tr>\n",
       "    <tr>\n",
       "      <th>1</th>\n",
       "      <td>Avery Bradley</td>\n",
       "      <td>G</td>\n",
       "      <td>74</td>\n",
       "      <td>180</td>\n",
       "      <td>22</td>\n",
       "      <td>Texas</td>\n",
       "      <td>1990-11-26</td>\n",
       "    </tr>\n",
       "    <tr>\n",
       "      <th>2</th>\n",
       "      <td>Keith Bogans</td>\n",
       "      <td>G</td>\n",
       "      <td>77</td>\n",
       "      <td>215</td>\n",
       "      <td>33</td>\n",
       "      <td>Kentucky</td>\n",
       "      <td>1980-05-12</td>\n",
       "    </tr>\n",
       "    <tr>\n",
       "      <th>3</th>\n",
       "      <td>Jared Sullinger</td>\n",
       "      <td>F</td>\n",
       "      <td>81</td>\n",
       "      <td>260</td>\n",
       "      <td>21</td>\n",
       "      <td>Ohio State</td>\n",
       "      <td>1992-03-04</td>\n",
       "    </tr>\n",
       "    <tr>\n",
       "      <th>4</th>\n",
       "      <td>Jeff Green</td>\n",
       "      <td>F</td>\n",
       "      <td>81</td>\n",
       "      <td>235</td>\n",
       "      <td>27</td>\n",
       "      <td>Georgetown</td>\n",
       "      <td>1986-08-28</td>\n",
       "    </tr>\n",
       "  </tbody>\n",
       "</table>\n",
       "</div>"
      ],
      "text/plain": [
       "            Player Pos  Height  Weight  Age      School      BDate\n",
       "0   Vitor Faverani   C      83     260   25         NaN 1988-05-05\n",
       "1    Avery Bradley   G      74     180   22       Texas 1990-11-26\n",
       "2     Keith Bogans   G      77     215   33    Kentucky 1980-05-12\n",
       "3  Jared Sullinger   F      81     260   21  Ohio State 1992-03-04\n",
       "4       Jeff Green   F      81     235   27  Georgetown 1986-08-28"
      ]
     },
     "execution_count": 49,
     "metadata": {},
     "output_type": "execute_result"
    }
   ],
   "source": [
    "df.head()"
   ]
  },
  {
   "cell_type": "code",
   "execution_count": 44,
   "id": "4e496ffb-effd-45dc-80c2-c0bfed3ea296",
   "metadata": {},
   "outputs": [
    {
     "data": {
      "text/html": [
       "<div>\n",
       "<style scoped>\n",
       "    .dataframe tbody tr th:only-of-type {\n",
       "        vertical-align: middle;\n",
       "    }\n",
       "\n",
       "    .dataframe tbody tr th {\n",
       "        vertical-align: top;\n",
       "    }\n",
       "\n",
       "    .dataframe thead th {\n",
       "        text-align: right;\n",
       "    }\n",
       "</style>\n",
       "<table border=\"1\" class=\"dataframe\">\n",
       "  <thead>\n",
       "    <tr style=\"text-align: right;\">\n",
       "      <th></th>\n",
       "      <th>School</th>\n",
       "    </tr>\n",
       "  </thead>\n",
       "  <tbody>\n",
       "    <tr>\n",
       "      <th>2</th>\n",
       "      <td>Kentucky</td>\n",
       "    </tr>\n",
       "  </tbody>\n",
       "</table>\n",
       "</div>"
      ],
      "text/plain": [
       "     School\n",
       "2  Kentucky"
      ]
     },
     "execution_count": 44,
     "metadata": {},
     "output_type": "execute_result"
    }
   ],
   "source": [
    "df.iloc[2:3,5:6]"
   ]
  },
  {
   "cell_type": "code",
   "execution_count": 56,
   "id": "71b901b7-9777-46d2-82c4-b47dbd8166dd",
   "metadata": {},
   "outputs": [
    {
     "data": {
      "text/plain": [
       "Player          James Johnson\n",
       "Pos                         F\n",
       "Height                     81\n",
       "Weight                    248\n",
       "Age                        26\n",
       "School            Wake Forest\n",
       "BDate     1987-02-20 00:00:00\n",
       "Name: 504, dtype: object"
      ]
     },
     "execution_count": 56,
     "metadata": {},
     "output_type": "execute_result"
    }
   ],
   "source": [
    "df.iloc[504]"
   ]
  },
  {
   "cell_type": "code",
   "execution_count": 64,
   "id": "f8005578-e1b4-42a6-b206-d88e8be7ef39",
   "metadata": {},
   "outputs": [
    {
     "data": {
      "text/plain": [
       "pandas._libs.tslibs.timestamps.Timestamp"
      ]
     },
     "execution_count": 64,
     "metadata": {},
     "output_type": "execute_result"
    }
   ],
   "source": [
    "type(df['BDate'][0])"
   ]
  },
  {
   "cell_type": "code",
   "execution_count": 82,
   "id": "0fb620c2-9fab-44ba-a9dd-5f953af5f0d6",
   "metadata": {},
   "outputs": [
    {
     "data": {
      "text/plain": [
       "datetime.datetime(2024, 5, 2, 9, 16, 57, 643745)"
      ]
     },
     "execution_count": 82,
     "metadata": {},
     "output_type": "execute_result"
    }
   ],
   "source": [
    "from datetime import datetime\n",
    "dt = datetime.today()\n",
    "dt"
   ]
  },
  {
   "cell_type": "code",
   "execution_count": 75,
   "id": "cc4496ed-9e30-4f03-a710-49beead14d0b",
   "metadata": {},
   "outputs": [
    {
     "name": "stdout",
     "output_type": "stream",
     "text": [
      "2024-05-02 00:00:00\n"
     ]
    }
   ],
   "source": [
    "dt1 = \"2024-05-02\"\n",
    "print(pd.to_datetime(dt1))"
   ]
  },
  {
   "cell_type": "code",
   "execution_count": 78,
   "id": "c717e86f-8854-4fa7-aa3b-e069b3946f2f",
   "metadata": {},
   "outputs": [
    {
     "data": {
      "text/html": [
       "<div>\n",
       "<style scoped>\n",
       "    .dataframe tbody tr th:only-of-type {\n",
       "        vertical-align: middle;\n",
       "    }\n",
       "\n",
       "    .dataframe tbody tr th {\n",
       "        vertical-align: top;\n",
       "    }\n",
       "\n",
       "    .dataframe thead th {\n",
       "        text-align: right;\n",
       "    }\n",
       "</style>\n",
       "<table border=\"1\" class=\"dataframe\">\n",
       "  <thead>\n",
       "    <tr style=\"text-align: right;\">\n",
       "      <th></th>\n",
       "      <th>BDate</th>\n",
       "    </tr>\n",
       "  </thead>\n",
       "  <tbody>\n",
       "    <tr>\n",
       "      <th>0</th>\n",
       "      <td>1988-05-05</td>\n",
       "    </tr>\n",
       "    <tr>\n",
       "      <th>1</th>\n",
       "      <td>1990-11-26</td>\n",
       "    </tr>\n",
       "    <tr>\n",
       "      <th>2</th>\n",
       "      <td>1980-05-12</td>\n",
       "    </tr>\n",
       "    <tr>\n",
       "      <th>3</th>\n",
       "      <td>1992-03-04</td>\n",
       "    </tr>\n",
       "    <tr>\n",
       "      <th>4</th>\n",
       "      <td>1986-08-28</td>\n",
       "    </tr>\n",
       "    <tr>\n",
       "      <th>...</th>\n",
       "      <td>...</td>\n",
       "    </tr>\n",
       "    <tr>\n",
       "      <th>500</th>\n",
       "      <td>1986-09-09</td>\n",
       "    </tr>\n",
       "    <tr>\n",
       "      <th>501</th>\n",
       "      <td>1986-07-21</td>\n",
       "    </tr>\n",
       "    <tr>\n",
       "      <th>502</th>\n",
       "      <td>1983-06-11</td>\n",
       "    </tr>\n",
       "    <tr>\n",
       "      <th>503</th>\n",
       "      <td>1988-10-31</td>\n",
       "    </tr>\n",
       "    <tr>\n",
       "      <th>504</th>\n",
       "      <td>1987-02-20</td>\n",
       "    </tr>\n",
       "  </tbody>\n",
       "</table>\n",
       "<p>505 rows × 1 columns</p>\n",
       "</div>"
      ],
      "text/plain": [
       "         BDate\n",
       "0   1988-05-05\n",
       "1   1990-11-26\n",
       "2   1980-05-12\n",
       "3   1992-03-04\n",
       "4   1986-08-28\n",
       "..         ...\n",
       "500 1986-09-09\n",
       "501 1986-07-21\n",
       "502 1983-06-11\n",
       "503 1988-10-31\n",
       "504 1987-02-20\n",
       "\n",
       "[505 rows x 1 columns]"
      ]
     },
     "execution_count": 78,
     "metadata": {},
     "output_type": "execute_result"
    }
   ],
   "source": [
    "df[['BDate']]"
   ]
  },
  {
   "cell_type": "code",
   "execution_count": 83,
   "id": "ac951f5f-870e-4b26-bf76-bb224176b312",
   "metadata": {},
   "outputs": [
    {
     "data": {
      "text/html": [
       "<div>\n",
       "<style scoped>\n",
       "    .dataframe tbody tr th:only-of-type {\n",
       "        vertical-align: middle;\n",
       "    }\n",
       "\n",
       "    .dataframe tbody tr th {\n",
       "        vertical-align: top;\n",
       "    }\n",
       "\n",
       "    .dataframe thead th {\n",
       "        text-align: right;\n",
       "    }\n",
       "</style>\n",
       "<table border=\"1\" class=\"dataframe\">\n",
       "  <thead>\n",
       "    <tr style=\"text-align: right;\">\n",
       "      <th></th>\n",
       "      <th>Player</th>\n",
       "      <th>Pos</th>\n",
       "      <th>Height</th>\n",
       "      <th>Weight</th>\n",
       "      <th>Age</th>\n",
       "      <th>School</th>\n",
       "      <th>BDate</th>\n",
       "    </tr>\n",
       "  </thead>\n",
       "  <tbody>\n",
       "    <tr>\n",
       "      <th>0</th>\n",
       "      <td>Vitor Faverani</td>\n",
       "      <td>C</td>\n",
       "      <td>83</td>\n",
       "      <td>260</td>\n",
       "      <td>25</td>\n",
       "      <td>NaN</td>\n",
       "      <td>1988-05-05</td>\n",
       "    </tr>\n",
       "    <tr>\n",
       "      <th>1</th>\n",
       "      <td>Avery Bradley</td>\n",
       "      <td>G</td>\n",
       "      <td>74</td>\n",
       "      <td>180</td>\n",
       "      <td>22</td>\n",
       "      <td>Texas</td>\n",
       "      <td>1990-11-26</td>\n",
       "    </tr>\n",
       "    <tr>\n",
       "      <th>2</th>\n",
       "      <td>Keith Bogans</td>\n",
       "      <td>G</td>\n",
       "      <td>77</td>\n",
       "      <td>215</td>\n",
       "      <td>33</td>\n",
       "      <td>Kentucky</td>\n",
       "      <td>1980-05-12</td>\n",
       "    </tr>\n",
       "    <tr>\n",
       "      <th>3</th>\n",
       "      <td>Jared Sullinger</td>\n",
       "      <td>F</td>\n",
       "      <td>81</td>\n",
       "      <td>260</td>\n",
       "      <td>21</td>\n",
       "      <td>Ohio State</td>\n",
       "      <td>1992-03-04</td>\n",
       "    </tr>\n",
       "    <tr>\n",
       "      <th>4</th>\n",
       "      <td>Jeff Green</td>\n",
       "      <td>F</td>\n",
       "      <td>81</td>\n",
       "      <td>235</td>\n",
       "      <td>27</td>\n",
       "      <td>Georgetown</td>\n",
       "      <td>1986-08-28</td>\n",
       "    </tr>\n",
       "    <tr>\n",
       "      <th>...</th>\n",
       "      <td>...</td>\n",
       "      <td>...</td>\n",
       "      <td>...</td>\n",
       "      <td>...</td>\n",
       "      <td>...</td>\n",
       "      <td>...</td>\n",
       "      <td>...</td>\n",
       "    </tr>\n",
       "    <tr>\n",
       "      <th>500</th>\n",
       "      <td>Luc Mbah a Moute</td>\n",
       "      <td>F</td>\n",
       "      <td>80</td>\n",
       "      <td>230</td>\n",
       "      <td>27</td>\n",
       "      <td>UCLA</td>\n",
       "      <td>1986-09-09</td>\n",
       "    </tr>\n",
       "    <tr>\n",
       "      <th>501</th>\n",
       "      <td>Jason Thompson</td>\n",
       "      <td>F</td>\n",
       "      <td>83</td>\n",
       "      <td>250</td>\n",
       "      <td>27</td>\n",
       "      <td>Rider</td>\n",
       "      <td>1986-07-21</td>\n",
       "    </tr>\n",
       "    <tr>\n",
       "      <th>502</th>\n",
       "      <td>Chuck Hayes</td>\n",
       "      <td>F</td>\n",
       "      <td>78</td>\n",
       "      <td>238</td>\n",
       "      <td>30</td>\n",
       "      <td>Kentucky</td>\n",
       "      <td>1983-06-11</td>\n",
       "    </tr>\n",
       "    <tr>\n",
       "      <th>503</th>\n",
       "      <td>Cole Aldrich</td>\n",
       "      <td>C</td>\n",
       "      <td>83</td>\n",
       "      <td>245</td>\n",
       "      <td>24</td>\n",
       "      <td>Kansas</td>\n",
       "      <td>1988-10-31</td>\n",
       "    </tr>\n",
       "    <tr>\n",
       "      <th>504</th>\n",
       "      <td>James Johnson</td>\n",
       "      <td>F</td>\n",
       "      <td>81</td>\n",
       "      <td>248</td>\n",
       "      <td>26</td>\n",
       "      <td>Wake Forest</td>\n",
       "      <td>1987-02-20</td>\n",
       "    </tr>\n",
       "  </tbody>\n",
       "</table>\n",
       "<p>505 rows × 7 columns</p>\n",
       "</div>"
      ],
      "text/plain": [
       "               Player Pos  Height  Weight  Age       School      BDate\n",
       "0      Vitor Faverani   C      83     260   25          NaN 1988-05-05\n",
       "1       Avery Bradley   G      74     180   22        Texas 1990-11-26\n",
       "2        Keith Bogans   G      77     215   33     Kentucky 1980-05-12\n",
       "3     Jared Sullinger   F      81     260   21   Ohio State 1992-03-04\n",
       "4          Jeff Green   F      81     235   27   Georgetown 1986-08-28\n",
       "..                ...  ..     ...     ...  ...          ...        ...\n",
       "500  Luc Mbah a Moute   F      80     230   27         UCLA 1986-09-09\n",
       "501    Jason Thompson   F      83     250   27        Rider 1986-07-21\n",
       "502       Chuck Hayes   F      78     238   30     Kentucky 1983-06-11\n",
       "503      Cole Aldrich   C      83     245   24       Kansas 1988-10-31\n",
       "504     James Johnson   F      81     248   26  Wake Forest 1987-02-20\n",
       "\n",
       "[505 rows x 7 columns]"
      ]
     },
     "execution_count": 83,
     "metadata": {},
     "output_type": "execute_result"
    }
   ],
   "source": [
    "df"
   ]
  },
  {
   "cell_type": "code",
   "execution_count": 90,
   "id": "3c0c7275-32b7-4514-a83d-f0157fafbccd",
   "metadata": {},
   "outputs": [
    {
     "data": {
      "text/html": [
       "<div>\n",
       "<style scoped>\n",
       "    .dataframe tbody tr th:only-of-type {\n",
       "        vertical-align: middle;\n",
       "    }\n",
       "\n",
       "    .dataframe tbody tr th {\n",
       "        vertical-align: top;\n",
       "    }\n",
       "\n",
       "    .dataframe thead th {\n",
       "        text-align: right;\n",
       "    }\n",
       "</style>\n",
       "<table border=\"1\" class=\"dataframe\">\n",
       "  <thead>\n",
       "    <tr style=\"text-align: right;\">\n",
       "      <th></th>\n",
       "      <th>Player</th>\n",
       "      <th>Pos</th>\n",
       "      <th>Height</th>\n",
       "      <th>Weight</th>\n",
       "      <th>Age</th>\n",
       "      <th>School</th>\n",
       "      <th>BDate</th>\n",
       "    </tr>\n",
       "  </thead>\n",
       "  <tbody>\n",
       "    <tr>\n",
       "      <th>112</th>\n",
       "      <td>Andrew Bynum</td>\n",
       "      <td>C</td>\n",
       "      <td>84</td>\n",
       "      <td>285</td>\n",
       "      <td>25</td>\n",
       "      <td>NaN</td>\n",
       "      <td>1987-10-27</td>\n",
       "    </tr>\n",
       "    <tr>\n",
       "      <th>209</th>\n",
       "      <td>Greg Oden</td>\n",
       "      <td>C</td>\n",
       "      <td>84</td>\n",
       "      <td>285</td>\n",
       "      <td>25</td>\n",
       "      <td>Ohio State</td>\n",
       "      <td>1988-01-22</td>\n",
       "    </tr>\n",
       "    <tr>\n",
       "      <th>223</th>\n",
       "      <td>Glen Davis</td>\n",
       "      <td>F</td>\n",
       "      <td>81</td>\n",
       "      <td>289</td>\n",
       "      <td>27</td>\n",
       "      <td>LSU</td>\n",
       "      <td>1986-01-01</td>\n",
       "    </tr>\n",
       "    <tr>\n",
       "      <th>364</th>\n",
       "      <td>Nikola Pekovic</td>\n",
       "      <td>C</td>\n",
       "      <td>83</td>\n",
       "      <td>290</td>\n",
       "      <td>27</td>\n",
       "      <td>NaN</td>\n",
       "      <td>1986-01-03</td>\n",
       "    </tr>\n",
       "  </tbody>\n",
       "</table>\n",
       "</div>"
      ],
      "text/plain": [
       "             Player Pos  Height  Weight  Age      School      BDate\n",
       "112    Andrew Bynum   C      84     285   25         NaN 1987-10-27\n",
       "209       Greg Oden   C      84     285   25  Ohio State 1988-01-22\n",
       "223      Glen Davis   F      81     289   27         LSU 1986-01-01\n",
       "364  Nikola Pekovic   C      83     290   27         NaN 1986-01-03"
      ]
     },
     "execution_count": 90,
     "metadata": {},
     "output_type": "execute_result"
    }
   ],
   "source": [
    "df[df['Weight']>280]"
   ]
  },
  {
   "cell_type": "code",
   "execution_count": 88,
   "id": "06d40bea-a7bc-47c2-acfc-b6aa93086893",
   "metadata": {},
   "outputs": [
    {
     "data": {
      "text/html": [
       "<div>\n",
       "<style scoped>\n",
       "    .dataframe tbody tr th:only-of-type {\n",
       "        vertical-align: middle;\n",
       "    }\n",
       "\n",
       "    .dataframe tbody tr th {\n",
       "        vertical-align: top;\n",
       "    }\n",
       "\n",
       "    .dataframe thead th {\n",
       "        text-align: right;\n",
       "    }\n",
       "</style>\n",
       "<table border=\"1\" class=\"dataframe\">\n",
       "  <thead>\n",
       "    <tr style=\"text-align: right;\">\n",
       "      <th></th>\n",
       "      <th>Player</th>\n",
       "      <th>Pos</th>\n",
       "      <th>Height</th>\n",
       "      <th>Weight</th>\n",
       "      <th>Age</th>\n",
       "      <th>School</th>\n",
       "      <th>BDate</th>\n",
       "    </tr>\n",
       "  </thead>\n",
       "  <tbody>\n",
       "    <tr>\n",
       "      <th>112</th>\n",
       "      <td>Andrew Bynum</td>\n",
       "      <td>C</td>\n",
       "      <td>84</td>\n",
       "      <td>285</td>\n",
       "      <td>25</td>\n",
       "      <td>NaN</td>\n",
       "      <td>1987-10-27</td>\n",
       "    </tr>\n",
       "    <tr>\n",
       "      <th>209</th>\n",
       "      <td>Greg Oden</td>\n",
       "      <td>C</td>\n",
       "      <td>84</td>\n",
       "      <td>285</td>\n",
       "      <td>25</td>\n",
       "      <td>Ohio State</td>\n",
       "      <td>1988-01-22</td>\n",
       "    </tr>\n",
       "    <tr>\n",
       "      <th>223</th>\n",
       "      <td>Glen Davis</td>\n",
       "      <td>F</td>\n",
       "      <td>81</td>\n",
       "      <td>289</td>\n",
       "      <td>27</td>\n",
       "      <td>LSU</td>\n",
       "      <td>1986-01-01</td>\n",
       "    </tr>\n",
       "    <tr>\n",
       "      <th>364</th>\n",
       "      <td>Nikola Pekovic</td>\n",
       "      <td>C</td>\n",
       "      <td>83</td>\n",
       "      <td>290</td>\n",
       "      <td>27</td>\n",
       "      <td>NaN</td>\n",
       "      <td>1986-01-03</td>\n",
       "    </tr>\n",
       "  </tbody>\n",
       "</table>\n",
       "</div>"
      ],
      "text/plain": [
       "             Player Pos  Height  Weight  Age      School      BDate\n",
       "112    Andrew Bynum   C      84     285   25         NaN 1987-10-27\n",
       "209       Greg Oden   C      84     285   25  Ohio State 1988-01-22\n",
       "223      Glen Davis   F      81     289   27         LSU 1986-01-01\n",
       "364  Nikola Pekovic   C      83     290   27         NaN 1986-01-03"
      ]
     },
     "execution_count": 88,
     "metadata": {},
     "output_type": "execute_result"
    }
   ],
   "source": [
    "df.loc[df.Weight>280]"
   ]
  },
  {
   "cell_type": "code",
   "execution_count": 91,
   "id": "1424211a-c531-40f7-9ddd-12fd49894628",
   "metadata": {},
   "outputs": [
    {
     "data": {
      "text/plain": [
       "0      260\n",
       "1      180\n",
       "2      215\n",
       "3      260\n",
       "4      235\n",
       "      ... \n",
       "500    230\n",
       "501    250\n",
       "502    238\n",
       "503    245\n",
       "504    248\n",
       "Name: Weight, Length: 505, dtype: int64"
      ]
     },
     "execution_count": 91,
     "metadata": {},
     "output_type": "execute_result"
    }
   ],
   "source": [
    "df['Weight']"
   ]
  },
  {
   "cell_type": "code",
   "execution_count": 127,
   "id": "bb8cf3fa-fbfa-401e-b7c6-3c8430c93af1",
   "metadata": {},
   "outputs": [
    {
     "data": {
      "text/plain": [
       "(50, 7)"
      ]
     },
     "execution_count": 127,
     "metadata": {},
     "output_type": "execute_result"
    }
   ],
   "source": [
    "# & - and - both shjould be true\n",
    "# | - or - either should work\n",
    "df2 = df[(df['Weight']>280) | (df['Age']==27)]\n",
    "df2.shape"
   ]
  },
  {
   "cell_type": "code",
   "execution_count": 108,
   "id": "33804b35-2776-44a4-84dc-19f6a18bf733",
   "metadata": {},
   "outputs": [
    {
     "data": {
      "text/plain": [
       "79.06534653465347"
      ]
     },
     "execution_count": 108,
     "metadata": {},
     "output_type": "execute_result"
    }
   ],
   "source": [
    "df['Height'].mean()"
   ]
  },
  {
   "cell_type": "code",
   "execution_count": 112,
   "id": "613e66a3-3cf1-452c-9861-5ee641aa3fcc",
   "metadata": {},
   "outputs": [
    {
     "data": {
      "text/html": [
       "<div>\n",
       "<style scoped>\n",
       "    .dataframe tbody tr th:only-of-type {\n",
       "        vertical-align: middle;\n",
       "    }\n",
       "\n",
       "    .dataframe tbody tr th {\n",
       "        vertical-align: top;\n",
       "    }\n",
       "\n",
       "    .dataframe thead th {\n",
       "        text-align: right;\n",
       "    }\n",
       "</style>\n",
       "<table border=\"1\" class=\"dataframe\">\n",
       "  <thead>\n",
       "    <tr style=\"text-align: right;\">\n",
       "      <th></th>\n",
       "      <th>Player</th>\n",
       "      <th>Pos</th>\n",
       "      <th>Height</th>\n",
       "      <th>Weight</th>\n",
       "      <th>Age</th>\n",
       "      <th>School</th>\n",
       "      <th>BDate</th>\n",
       "    </tr>\n",
       "  </thead>\n",
       "  <tbody>\n",
       "    <tr>\n",
       "      <th>0</th>\n",
       "      <td>Vitor Faverani</td>\n",
       "      <td>C</td>\n",
       "      <td>83</td>\n",
       "      <td>260</td>\n",
       "      <td>25</td>\n",
       "      <td>NaN</td>\n",
       "      <td>1988-05-05</td>\n",
       "    </tr>\n",
       "    <tr>\n",
       "      <th>3</th>\n",
       "      <td>Jared Sullinger</td>\n",
       "      <td>F</td>\n",
       "      <td>81</td>\n",
       "      <td>260</td>\n",
       "      <td>21</td>\n",
       "      <td>Ohio State</td>\n",
       "      <td>1992-03-04</td>\n",
       "    </tr>\n",
       "    <tr>\n",
       "      <th>4</th>\n",
       "      <td>Jeff Green</td>\n",
       "      <td>F</td>\n",
       "      <td>81</td>\n",
       "      <td>235</td>\n",
       "      <td>27</td>\n",
       "      <td>Georgetown</td>\n",
       "      <td>1986-08-28</td>\n",
       "    </tr>\n",
       "    <tr>\n",
       "      <th>10</th>\n",
       "      <td>Brandon Bass</td>\n",
       "      <td>F</td>\n",
       "      <td>80</td>\n",
       "      <td>250</td>\n",
       "      <td>28</td>\n",
       "      <td>LSU</td>\n",
       "      <td>1985-04-30</td>\n",
       "    </tr>\n",
       "    <tr>\n",
       "      <th>11</th>\n",
       "      <td>Colton Iverson</td>\n",
       "      <td>C</td>\n",
       "      <td>84</td>\n",
       "      <td>255</td>\n",
       "      <td>24</td>\n",
       "      <td>Colorado State</td>\n",
       "      <td>1989-06-29</td>\n",
       "    </tr>\n",
       "    <tr>\n",
       "      <th>...</th>\n",
       "      <td>...</td>\n",
       "      <td>...</td>\n",
       "      <td>...</td>\n",
       "      <td>...</td>\n",
       "      <td>...</td>\n",
       "      <td>...</td>\n",
       "      <td>...</td>\n",
       "    </tr>\n",
       "    <tr>\n",
       "      <th>499</th>\n",
       "      <td>Travis Outlaw</td>\n",
       "      <td>F</td>\n",
       "      <td>81</td>\n",
       "      <td>207</td>\n",
       "      <td>29</td>\n",
       "      <td>NaN</td>\n",
       "      <td>1984-09-18</td>\n",
       "    </tr>\n",
       "    <tr>\n",
       "      <th>500</th>\n",
       "      <td>Luc Mbah a Moute</td>\n",
       "      <td>F</td>\n",
       "      <td>80</td>\n",
       "      <td>230</td>\n",
       "      <td>27</td>\n",
       "      <td>UCLA</td>\n",
       "      <td>1986-09-09</td>\n",
       "    </tr>\n",
       "    <tr>\n",
       "      <th>501</th>\n",
       "      <td>Jason Thompson</td>\n",
       "      <td>F</td>\n",
       "      <td>83</td>\n",
       "      <td>250</td>\n",
       "      <td>27</td>\n",
       "      <td>Rider</td>\n",
       "      <td>1986-07-21</td>\n",
       "    </tr>\n",
       "    <tr>\n",
       "      <th>503</th>\n",
       "      <td>Cole Aldrich</td>\n",
       "      <td>C</td>\n",
       "      <td>83</td>\n",
       "      <td>245</td>\n",
       "      <td>24</td>\n",
       "      <td>Kansas</td>\n",
       "      <td>1988-10-31</td>\n",
       "    </tr>\n",
       "    <tr>\n",
       "      <th>504</th>\n",
       "      <td>James Johnson</td>\n",
       "      <td>F</td>\n",
       "      <td>81</td>\n",
       "      <td>248</td>\n",
       "      <td>26</td>\n",
       "      <td>Wake Forest</td>\n",
       "      <td>1987-02-20</td>\n",
       "    </tr>\n",
       "  </tbody>\n",
       "</table>\n",
       "<p>253 rows × 7 columns</p>\n",
       "</div>"
      ],
      "text/plain": [
       "               Player Pos  Height  Weight  Age          School      BDate\n",
       "0      Vitor Faverani   C      83     260   25             NaN 1988-05-05\n",
       "3     Jared Sullinger   F      81     260   21      Ohio State 1992-03-04\n",
       "4          Jeff Green   F      81     235   27      Georgetown 1986-08-28\n",
       "10       Brandon Bass   F      80     250   28             LSU 1985-04-30\n",
       "11     Colton Iverson   C      84     255   24  Colorado State 1989-06-29\n",
       "..                ...  ..     ...     ...  ...             ...        ...\n",
       "499     Travis Outlaw   F      81     207   29             NaN 1984-09-18\n",
       "500  Luc Mbah a Moute   F      80     230   27            UCLA 1986-09-09\n",
       "501    Jason Thompson   F      83     250   27           Rider 1986-07-21\n",
       "503      Cole Aldrich   C      83     245   24          Kansas 1988-10-31\n",
       "504     James Johnson   F      81     248   26     Wake Forest 1987-02-20\n",
       "\n",
       "[253 rows x 7 columns]"
      ]
     },
     "execution_count": 112,
     "metadata": {},
     "output_type": "execute_result"
    }
   ],
   "source": [
    "df3 = df[df['Height']>df['Height'].mean()]\n",
    "df3"
   ]
  },
  {
   "cell_type": "code",
   "execution_count": 122,
   "id": "bbc32cdc-02bb-41a3-8ea5-951fa68d85ab",
   "metadata": {},
   "outputs": [
    {
     "data": {
      "text/html": [
       "<div>\n",
       "<style scoped>\n",
       "    .dataframe tbody tr th:only-of-type {\n",
       "        vertical-align: middle;\n",
       "    }\n",
       "\n",
       "    .dataframe tbody tr th {\n",
       "        vertical-align: top;\n",
       "    }\n",
       "\n",
       "    .dataframe thead th {\n",
       "        text-align: right;\n",
       "    }\n",
       "</style>\n",
       "<table border=\"1\" class=\"dataframe\">\n",
       "  <thead>\n",
       "    <tr style=\"text-align: right;\">\n",
       "      <th></th>\n",
       "      <th>Player</th>\n",
       "      <th>Pos</th>\n",
       "      <th>Height</th>\n",
       "      <th>Weight</th>\n",
       "      <th>Age</th>\n",
       "      <th>School</th>\n",
       "      <th>BDate</th>\n",
       "    </tr>\n",
       "  </thead>\n",
       "  <tbody>\n",
       "    <tr>\n",
       "      <th>211</th>\n",
       "      <td>Jarvis Varnado</td>\n",
       "      <td>F</td>\n",
       "      <td>81</td>\n",
       "      <td>230</td>\n",
       "      <td>15</td>\n",
       "      <td>Mississippi State</td>\n",
       "      <td>1998-03-01</td>\n",
       "    </tr>\n",
       "  </tbody>\n",
       "</table>\n",
       "</div>"
      ],
      "text/plain": [
       "             Player Pos  Height  Weight  Age             School      BDate\n",
       "211  Jarvis Varnado   F      81     230   15  Mississippi State 1998-03-01"
      ]
     },
     "execution_count": 122,
     "metadata": {},
     "output_type": "execute_result"
    }
   ],
   "source": [
    "df[df['Age']==df['Age'].min()]"
   ]
  },
  {
   "cell_type": "code",
   "execution_count": 123,
   "id": "cb0bf2ec-ac1e-4512-a5f9-caf0ce8b0362",
   "metadata": {},
   "outputs": [
    {
     "data": {
      "text/html": [
       "<div>\n",
       "<style scoped>\n",
       "    .dataframe tbody tr th:only-of-type {\n",
       "        vertical-align: middle;\n",
       "    }\n",
       "\n",
       "    .dataframe tbody tr th {\n",
       "        vertical-align: top;\n",
       "    }\n",
       "\n",
       "    .dataframe thead th {\n",
       "        text-align: right;\n",
       "    }\n",
       "</style>\n",
       "<table border=\"1\" class=\"dataframe\">\n",
       "  <thead>\n",
       "    <tr style=\"text-align: right;\">\n",
       "      <th></th>\n",
       "      <th>Player</th>\n",
       "      <th>Pos</th>\n",
       "      <th>Height</th>\n",
       "      <th>Weight</th>\n",
       "      <th>Age</th>\n",
       "      <th>School</th>\n",
       "      <th>BDate</th>\n",
       "    </tr>\n",
       "  </thead>\n",
       "  <tbody>\n",
       "    <tr>\n",
       "      <th>204</th>\n",
       "      <td>Juwan Howard</td>\n",
       "      <td>F</td>\n",
       "      <td>81</td>\n",
       "      <td>250</td>\n",
       "      <td>40</td>\n",
       "      <td>Michigan</td>\n",
       "      <td>1973-02-07</td>\n",
       "    </tr>\n",
       "  </tbody>\n",
       "</table>\n",
       "</div>"
      ],
      "text/plain": [
       "           Player Pos  Height  Weight  Age    School      BDate\n",
       "204  Juwan Howard   F      81     250   40  Michigan 1973-02-07"
      ]
     },
     "execution_count": 123,
     "metadata": {},
     "output_type": "execute_result"
    }
   ],
   "source": [
    "df[df['Age']==df['Age'].max()]"
   ]
  },
  {
   "cell_type": "markdown",
   "id": "467bbbf3-2175-45a2-9cde-16f4f142e6a9",
   "metadata": {},
   "source": [
    "- case study\n",
    "- explore dates\n",
    "- joins / merging\n",
    "- lambda function"
   ]
  },
  {
   "cell_type": "code",
   "execution_count": 128,
   "id": "84038a1a-be1d-4ce9-9b04-3ee4dae0a45c",
   "metadata": {},
   "outputs": [
    {
     "data": {
      "text/html": [
       "<div>\n",
       "<style scoped>\n",
       "    .dataframe tbody tr th:only-of-type {\n",
       "        vertical-align: middle;\n",
       "    }\n",
       "\n",
       "    .dataframe tbody tr th {\n",
       "        vertical-align: top;\n",
       "    }\n",
       "\n",
       "    .dataframe thead th {\n",
       "        text-align: right;\n",
       "    }\n",
       "</style>\n",
       "<table border=\"1\" class=\"dataframe\">\n",
       "  <thead>\n",
       "    <tr style=\"text-align: right;\">\n",
       "      <th></th>\n",
       "      <th>Player</th>\n",
       "      <th>Pos</th>\n",
       "      <th>Height</th>\n",
       "      <th>Weight</th>\n",
       "      <th>Age</th>\n",
       "      <th>School</th>\n",
       "      <th>BDate</th>\n",
       "    </tr>\n",
       "  </thead>\n",
       "  <tbody>\n",
       "    <tr>\n",
       "      <th>0</th>\n",
       "      <td>Vitor Faverani</td>\n",
       "      <td>C</td>\n",
       "      <td>83</td>\n",
       "      <td>260</td>\n",
       "      <td>25</td>\n",
       "      <td>NaN</td>\n",
       "      <td>1988-05-05</td>\n",
       "    </tr>\n",
       "    <tr>\n",
       "      <th>1</th>\n",
       "      <td>Avery Bradley</td>\n",
       "      <td>G</td>\n",
       "      <td>74</td>\n",
       "      <td>180</td>\n",
       "      <td>22</td>\n",
       "      <td>Texas</td>\n",
       "      <td>1990-11-26</td>\n",
       "    </tr>\n",
       "    <tr>\n",
       "      <th>2</th>\n",
       "      <td>Keith Bogans</td>\n",
       "      <td>G</td>\n",
       "      <td>77</td>\n",
       "      <td>215</td>\n",
       "      <td>33</td>\n",
       "      <td>Kentucky</td>\n",
       "      <td>1980-05-12</td>\n",
       "    </tr>\n",
       "    <tr>\n",
       "      <th>3</th>\n",
       "      <td>Jared Sullinger</td>\n",
       "      <td>F</td>\n",
       "      <td>81</td>\n",
       "      <td>260</td>\n",
       "      <td>21</td>\n",
       "      <td>Ohio State</td>\n",
       "      <td>1992-03-04</td>\n",
       "    </tr>\n",
       "    <tr>\n",
       "      <th>4</th>\n",
       "      <td>Jeff Green</td>\n",
       "      <td>F</td>\n",
       "      <td>81</td>\n",
       "      <td>235</td>\n",
       "      <td>27</td>\n",
       "      <td>Georgetown</td>\n",
       "      <td>1986-08-28</td>\n",
       "    </tr>\n",
       "  </tbody>\n",
       "</table>\n",
       "</div>"
      ],
      "text/plain": [
       "            Player Pos  Height  Weight  Age      School      BDate\n",
       "0   Vitor Faverani   C      83     260   25         NaN 1988-05-05\n",
       "1    Avery Bradley   G      74     180   22       Texas 1990-11-26\n",
       "2     Keith Bogans   G      77     215   33    Kentucky 1980-05-12\n",
       "3  Jared Sullinger   F      81     260   21  Ohio State 1992-03-04\n",
       "4       Jeff Green   F      81     235   27  Georgetown 1986-08-28"
      ]
     },
     "execution_count": 128,
     "metadata": {},
     "output_type": "execute_result"
    }
   ],
   "source": [
    "df.head()"
   ]
  },
  {
   "cell_type": "code",
   "execution_count": 129,
   "id": "59e46060-b19d-4cd2-a7d3-25d6769d9b7c",
   "metadata": {},
   "outputs": [
    {
     "data": {
      "text/plain": [
       "220.67326732673268"
      ]
     },
     "execution_count": 129,
     "metadata": {},
     "output_type": "execute_result"
    }
   ],
   "source": [
    "df['Weight'].mean()"
   ]
  },
  {
   "cell_type": "code",
   "execution_count": 130,
   "id": "dcda01b1-e23e-439d-8632-ff63ad8062ab",
   "metadata": {},
   "outputs": [
    {
     "data": {
      "text/html": [
       "<div>\n",
       "<style scoped>\n",
       "    .dataframe tbody tr th:only-of-type {\n",
       "        vertical-align: middle;\n",
       "    }\n",
       "\n",
       "    .dataframe tbody tr th {\n",
       "        vertical-align: top;\n",
       "    }\n",
       "\n",
       "    .dataframe thead th {\n",
       "        text-align: right;\n",
       "    }\n",
       "</style>\n",
       "<table border=\"1\" class=\"dataframe\">\n",
       "  <thead>\n",
       "    <tr style=\"text-align: right;\">\n",
       "      <th></th>\n",
       "      <th>Player</th>\n",
       "      <th>Pos</th>\n",
       "      <th>Height</th>\n",
       "      <th>Weight</th>\n",
       "      <th>Age</th>\n",
       "      <th>School</th>\n",
       "      <th>BDate</th>\n",
       "      <th>Flag</th>\n",
       "    </tr>\n",
       "  </thead>\n",
       "  <tbody>\n",
       "    <tr>\n",
       "      <th>0</th>\n",
       "      <td>Vitor Faverani</td>\n",
       "      <td>C</td>\n",
       "      <td>83</td>\n",
       "      <td>260</td>\n",
       "      <td>25</td>\n",
       "      <td>NaN</td>\n",
       "      <td>1988-05-05</td>\n",
       "      <td>OverWeight</td>\n",
       "    </tr>\n",
       "    <tr>\n",
       "      <th>1</th>\n",
       "      <td>Avery Bradley</td>\n",
       "      <td>G</td>\n",
       "      <td>74</td>\n",
       "      <td>180</td>\n",
       "      <td>22</td>\n",
       "      <td>Texas</td>\n",
       "      <td>1990-11-26</td>\n",
       "      <td>Underweight</td>\n",
       "    </tr>\n",
       "    <tr>\n",
       "      <th>2</th>\n",
       "      <td>Keith Bogans</td>\n",
       "      <td>G</td>\n",
       "      <td>77</td>\n",
       "      <td>215</td>\n",
       "      <td>33</td>\n",
       "      <td>Kentucky</td>\n",
       "      <td>1980-05-12</td>\n",
       "      <td>Underweight</td>\n",
       "    </tr>\n",
       "    <tr>\n",
       "      <th>3</th>\n",
       "      <td>Jared Sullinger</td>\n",
       "      <td>F</td>\n",
       "      <td>81</td>\n",
       "      <td>260</td>\n",
       "      <td>21</td>\n",
       "      <td>Ohio State</td>\n",
       "      <td>1992-03-04</td>\n",
       "      <td>OverWeight</td>\n",
       "    </tr>\n",
       "    <tr>\n",
       "      <th>4</th>\n",
       "      <td>Jeff Green</td>\n",
       "      <td>F</td>\n",
       "      <td>81</td>\n",
       "      <td>235</td>\n",
       "      <td>27</td>\n",
       "      <td>Georgetown</td>\n",
       "      <td>1986-08-28</td>\n",
       "      <td>OverWeight</td>\n",
       "    </tr>\n",
       "  </tbody>\n",
       "</table>\n",
       "</div>"
      ],
      "text/plain": [
       "            Player Pos  Height  Weight  Age      School      BDate  \\\n",
       "0   Vitor Faverani   C      83     260   25         NaN 1988-05-05   \n",
       "1    Avery Bradley   G      74     180   22       Texas 1990-11-26   \n",
       "2     Keith Bogans   G      77     215   33    Kentucky 1980-05-12   \n",
       "3  Jared Sullinger   F      81     260   21  Ohio State 1992-03-04   \n",
       "4       Jeff Green   F      81     235   27  Georgetown 1986-08-28   \n",
       "\n",
       "          Flag  \n",
       "0   OverWeight  \n",
       "1  Underweight  \n",
       "2  Underweight  \n",
       "3   OverWeight  \n",
       "4   OverWeight  "
      ]
     },
     "execution_count": 130,
     "metadata": {},
     "output_type": "execute_result"
    }
   ],
   "source": [
    "df['Flag'] = df['Weight'].apply(lambda x: \"Underweight\" if x < 220 else \"OverWeight\")\n",
    "df.head()"
   ]
  }
 ],
 "metadata": {
  "kernelspec": {
   "display_name": "Python 3 (ipykernel)",
   "language": "python",
   "name": "python3"
  },
  "language_info": {
   "codemirror_mode": {
    "name": "ipython",
    "version": 3
   },
   "file_extension": ".py",
   "mimetype": "text/x-python",
   "name": "python",
   "nbconvert_exporter": "python",
   "pygments_lexer": "ipython3",
   "version": "3.12.2"
  }
 },
 "nbformat": 4,
 "nbformat_minor": 5
}
