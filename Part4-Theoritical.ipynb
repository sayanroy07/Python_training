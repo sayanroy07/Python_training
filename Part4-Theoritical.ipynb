{
 "cells": [
  {
   "cell_type": "code",
   "execution_count": null,
   "id": "b86ccd25-78a9-4db8-a356-96c327b495d9",
   "metadata": {},
   "outputs": [],
   "source": [
    "# Python Module / Library / Package\n",
    "# Set of Instructions to perform a certain task as per asked by the user\n",
    "# File Import & Export - PANDAS - a powerful data analysis and manipulation library for Python\n",
    "# Mathematical Operation - NUMPY - numerical python, percentile, quantile, mean, mode, quadratic, matrix, array\n",
    "# Scientific Operation - SCIPY - ztest, ttest, sampling, probabbility\n",
    "# Machine Learning - SKLEARN / SCIKIT-LEARN - ml algorithms, regressions, feature transformation, model evaluation\n",
    "# Visualization - MATPLOTLIB - is more granular & detailed - line chart, bar chart,\n",
    "# Visualization - SEABORN - is more organizaed and user friendly - pie chart, donut chart\n",
    "# Convertion of ML models - Pickle - convert to binary"
   ]
  },
  {
   "cell_type": "code",
   "execution_count": 1,
   "id": "fd2bf747-a9f3-4c40-b27f-5394079c5195",
   "metadata": {},
   "outputs": [
    {
     "data": {
      "text/plain": [
       "15"
      ]
     },
     "execution_count": 1,
     "metadata": {},
     "output_type": "execute_result"
    }
   ],
   "source": [
    "st = \"Ranjith & Siyan\"\n",
    "# input()\n",
    "# Shift + Tab\n",
    "# Return the number of characters in a String.\n",
    "len(st)"
   ]
  },
  {
   "cell_type": "code",
   "execution_count": null,
   "id": "dd1c7268-5888-4629-9cbc-8d124c6cf647",
   "metadata": {},
   "outputs": [],
   "source": [
    "# pip install pandas\n",
    "# pip install numpy"
   ]
  },
  {
   "cell_type": "code",
   "execution_count": 5,
   "id": "14520c90-78aa-4678-8f94-ba927dd03f0b",
   "metadata": {},
   "outputs": [],
   "source": [
    "import pandas as pd\n",
    "import numpy as np\n",
    "# alias / pet name"
   ]
  },
  {
   "cell_type": "code",
   "execution_count": 15,
   "id": "cba2b13c-d8e1-41ed-b2d4-970437dbeb13",
   "metadata": {},
   "outputs": [
    {
     "data": {
      "text/plain": [
       "array([[0, 1, 2],\n",
       "       [3, 4, 5]])"
      ]
     },
     "execution_count": 15,
     "metadata": {},
     "output_type": "execute_result"
    }
   ],
   "source": [
    "# ARRAY - stores similar data types\n",
    "x = np.arange(6).reshape(2,3)\n",
    "x\n",
    "#print(type(x))\n",
    "# We need array to create Matrix"
   ]
  },
  {
   "cell_type": "code",
   "execution_count": 12,
   "id": "05616f10-65ea-4cee-abdd-8d4562f62e3c",
   "metadata": {},
   "outputs": [
    {
     "data": {
      "text/plain": [
       "[1, 2, 3.658, 'Ranjith/Siyan', True]"
      ]
     },
     "execution_count": 12,
     "metadata": {},
     "output_type": "execute_result"
    }
   ],
   "source": [
    "# Decimals = Floating Point\n",
    "l1 = [1,2,3.658,'Ranjith/Siyan',True]\n",
    "l1"
   ]
  },
  {
   "cell_type": "code",
   "execution_count": 25,
   "id": "6fe7a2d5-5b6d-408e-a858-73adc49e3665",
   "metadata": {},
   "outputs": [
    {
     "data": {
      "text/html": [
       "<div>\n",
       "<style scoped>\n",
       "    .dataframe tbody tr th:only-of-type {\n",
       "        vertical-align: middle;\n",
       "    }\n",
       "\n",
       "    .dataframe tbody tr th {\n",
       "        vertical-align: top;\n",
       "    }\n",
       "\n",
       "    .dataframe thead th {\n",
       "        text-align: right;\n",
       "    }\n",
       "</style>\n",
       "<table border=\"1\" class=\"dataframe\">\n",
       "  <thead>\n",
       "    <tr style=\"text-align: right;\">\n",
       "      <th></th>\n",
       "      <th>customerid</th>\n",
       "      <th>age</th>\n",
       "      <th>salary</th>\n",
       "      <th>balance</th>\n",
       "      <th>marital</th>\n",
       "      <th>jobedu</th>\n",
       "      <th>targeted</th>\n",
       "      <th>default</th>\n",
       "      <th>housing</th>\n",
       "      <th>loan</th>\n",
       "      <th>contact</th>\n",
       "      <th>day</th>\n",
       "      <th>month</th>\n",
       "      <th>duration</th>\n",
       "      <th>campaign</th>\n",
       "      <th>pdays</th>\n",
       "      <th>previous</th>\n",
       "      <th>poutcome</th>\n",
       "      <th>response</th>\n",
       "    </tr>\n",
       "  </thead>\n",
       "  <tbody>\n",
       "    <tr>\n",
       "      <th>0</th>\n",
       "      <td>1</td>\n",
       "      <td>58.0</td>\n",
       "      <td>100000</td>\n",
       "      <td>2143</td>\n",
       "      <td>married</td>\n",
       "      <td>management,tertiary</td>\n",
       "      <td>yes</td>\n",
       "      <td>no</td>\n",
       "      <td>yes</td>\n",
       "      <td>no</td>\n",
       "      <td>unknown</td>\n",
       "      <td>5</td>\n",
       "      <td>may, 2017</td>\n",
       "      <td>261 sec</td>\n",
       "      <td>1</td>\n",
       "      <td>-1</td>\n",
       "      <td>0</td>\n",
       "      <td>unknown</td>\n",
       "      <td>no</td>\n",
       "    </tr>\n",
       "    <tr>\n",
       "      <th>1</th>\n",
       "      <td>2</td>\n",
       "      <td>44.0</td>\n",
       "      <td>60000</td>\n",
       "      <td>29</td>\n",
       "      <td>single</td>\n",
       "      <td>technician,secondary</td>\n",
       "      <td>yes</td>\n",
       "      <td>no</td>\n",
       "      <td>yes</td>\n",
       "      <td>no</td>\n",
       "      <td>unknown</td>\n",
       "      <td>5</td>\n",
       "      <td>may, 2017</td>\n",
       "      <td>151 sec</td>\n",
       "      <td>1</td>\n",
       "      <td>-1</td>\n",
       "      <td>0</td>\n",
       "      <td>unknown</td>\n",
       "      <td>no</td>\n",
       "    </tr>\n",
       "    <tr>\n",
       "      <th>2</th>\n",
       "      <td>3</td>\n",
       "      <td>33.0</td>\n",
       "      <td>120000</td>\n",
       "      <td>2</td>\n",
       "      <td>married</td>\n",
       "      <td>entrepreneur,secondary</td>\n",
       "      <td>yes</td>\n",
       "      <td>no</td>\n",
       "      <td>yes</td>\n",
       "      <td>yes</td>\n",
       "      <td>unknown</td>\n",
       "      <td>5</td>\n",
       "      <td>may, 2017</td>\n",
       "      <td>76 sec</td>\n",
       "      <td>1</td>\n",
       "      <td>-1</td>\n",
       "      <td>0</td>\n",
       "      <td>unknown</td>\n",
       "      <td>no</td>\n",
       "    </tr>\n",
       "    <tr>\n",
       "      <th>3</th>\n",
       "      <td>4</td>\n",
       "      <td>47.0</td>\n",
       "      <td>20000</td>\n",
       "      <td>1506</td>\n",
       "      <td>married</td>\n",
       "      <td>blue-collar,unknown</td>\n",
       "      <td>no</td>\n",
       "      <td>no</td>\n",
       "      <td>yes</td>\n",
       "      <td>no</td>\n",
       "      <td>unknown</td>\n",
       "      <td>5</td>\n",
       "      <td>may, 2017</td>\n",
       "      <td>92 sec</td>\n",
       "      <td>1</td>\n",
       "      <td>-1</td>\n",
       "      <td>0</td>\n",
       "      <td>unknown</td>\n",
       "      <td>no</td>\n",
       "    </tr>\n",
       "    <tr>\n",
       "      <th>4</th>\n",
       "      <td>5</td>\n",
       "      <td>33.0</td>\n",
       "      <td>0</td>\n",
       "      <td>1</td>\n",
       "      <td>single</td>\n",
       "      <td>unknown,unknown</td>\n",
       "      <td>no</td>\n",
       "      <td>no</td>\n",
       "      <td>no</td>\n",
       "      <td>no</td>\n",
       "      <td>unknown</td>\n",
       "      <td>5</td>\n",
       "      <td>may, 2017</td>\n",
       "      <td>198 sec</td>\n",
       "      <td>1</td>\n",
       "      <td>-1</td>\n",
       "      <td>0</td>\n",
       "      <td>unknown</td>\n",
       "      <td>no</td>\n",
       "    </tr>\n",
       "  </tbody>\n",
       "</table>\n",
       "</div>"
      ],
      "text/plain": [
       "   customerid   age  salary  balance  marital                  jobedu  \\\n",
       "0           1  58.0  100000     2143  married     management,tertiary   \n",
       "1           2  44.0   60000       29   single    technician,secondary   \n",
       "2           3  33.0  120000        2  married  entrepreneur,secondary   \n",
       "3           4  47.0   20000     1506  married     blue-collar,unknown   \n",
       "4           5  33.0       0        1   single         unknown,unknown   \n",
       "\n",
       "  targeted default housing loan  contact  day      month duration  campaign  \\\n",
       "0      yes      no     yes   no  unknown    5  may, 2017  261 sec         1   \n",
       "1      yes      no     yes   no  unknown    5  may, 2017  151 sec         1   \n",
       "2      yes      no     yes  yes  unknown    5  may, 2017   76 sec         1   \n",
       "3       no      no     yes   no  unknown    5  may, 2017   92 sec         1   \n",
       "4       no      no      no   no  unknown    5  may, 2017  198 sec         1   \n",
       "\n",
       "   pdays  previous poutcome response  \n",
       "0     -1         0  unknown       no  \n",
       "1     -1         0  unknown       no  \n",
       "2     -1         0  unknown       no  \n",
       "3     -1         0  unknown       no  \n",
       "4     -1         0  unknown       no  "
      ]
     },
     "execution_count": 25,
     "metadata": {},
     "output_type": "execute_result"
    }
   ],
   "source": [
    "import pandas as pd\n",
    "df = pd.read_csv(r'C:\\Users\\User\\Python\\IIITB\\Bank Dataset\\bank_marketing_updated_v1.csv',skiprows=2)\n",
    "df.head(5)"
   ]
  },
  {
   "cell_type": "markdown",
   "id": "66b5745c-566a-4b58-b9f2-6bb2bb36cdbc",
   "metadata": {},
   "source": [
    "# Data Science"
   ]
  },
  {
   "cell_type": "markdown",
   "id": "7df47999-54b4-455e-bc29-aa0563334858",
   "metadata": {},
   "source": [
    "## Artificial Intelligence \n",
    "## AI/(FLAT)\n",
    "## ML/(ROOM)\n",
    "## DL/(CUBBOARD)"
   ]
  },
  {
   "cell_type": "markdown",
   "id": "f1bf9208-7b50-40d5-83d0-b0f2ab9f7787",
   "metadata": {},
   "source": [
    "### Machine Learning\n",
    "### - Supervised ML (Classification (Categorical) (Fraud/Non-Fraud) & Regression (Numerical) (Stock Exchange))\n",
    "####      - Label & predicting a final value  \n",
    "####      - Logistic Regression, Linear Regression, SVM, Decision Trees, Random Forest, etc\n",
    "### - Unsupervised ML (Clustering & Segmentation)\n",
    "####      - No Label & no new predictions are happening & we are grouping rows together, no new data     \n",
    "####      - k-means clustering, PCA, LDA\n",
    "### - Reinforcement Learning ML (Semi Supervised) (CHATGPT / OPENAI / LLM)"
   ]
  },
  {
   "cell_type": "markdown",
   "id": "d3011ff5-15f1-4235-b395-5c2b01f4c2f1",
   "metadata": {},
   "source": [
    "### DEEP LEARNING\n",
    " - Neural Network\n",
    " - Graphical Processing Unit"
   ]
  },
  {
   "cell_type": "code",
   "execution_count": 27,
   "id": "c70bbe60-4c90-49ae-8bcc-2a9ccef96a0d",
   "metadata": {},
   "outputs": [
    {
     "data": {
      "text/plain": [
       "13"
      ]
     },
     "execution_count": 27,
     "metadata": {},
     "output_type": "execute_result"
    }
   ],
   "source": [
    "def add(a,b):\n",
    "    return a+b\n",
    "\n",
    "\n",
    "add(6,7)"
   ]
  },
  {
   "cell_type": "code",
   "execution_count": null,
   "id": "c90f9237-8e4c-415a-9056-49ed6fa64006",
   "metadata": {},
   "outputs": [],
   "source": [
    "Banking Customer - Loyalty Programs "
   ]
  },
  {
   "cell_type": "code",
   "execution_count": 1,
   "id": "bd1c202d-ca20-413c-9ce8-ec8322e82dd2",
   "metadata": {},
   "outputs": [
    {
     "data": {
      "text/plain": [
       "'C:\\\\Users\\\\User\\\\Python\\\\Training'"
      ]
     },
     "execution_count": 1,
     "metadata": {},
     "output_type": "execute_result"
    }
   ],
   "source": [
    "pwd\n",
    "# something.ipynb"
   ]
  },
  {
   "cell_type": "code",
   "execution_count": null,
   "id": "8ddf172f-521b-44a1-8db8-a4482ba46549",
   "metadata": {},
   "outputs": [],
   "source": []
  }
 ],
 "metadata": {
  "kernelspec": {
   "display_name": "Python 3 (ipykernel)",
   "language": "python",
   "name": "python3"
  },
  "language_info": {
   "codemirror_mode": {
    "name": "ipython",
    "version": 3
   },
   "file_extension": ".py",
   "mimetype": "text/x-python",
   "name": "python",
   "nbconvert_exporter": "python",
   "pygments_lexer": "ipython3",
   "version": "3.12.2"
  }
 },
 "nbformat": 4,
 "nbformat_minor": 5
}
