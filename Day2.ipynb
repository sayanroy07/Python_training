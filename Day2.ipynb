{
 "cells": [
  {
   "cell_type": "markdown",
   "id": "da085943-870e-4d66-9f76-c05f83be7fc7",
   "metadata": {},
   "source": [
    " - Function intro and syntax\n",
    " - User-defined functions\n",
    " - Built-in functions\n",
    " - Function parameters\n",
    " - 4 Types of arguments\n",
    " - Lambda functions\n",
    " - Global variables\n",
    " - Local variables"
   ]
  },
  {
   "cell_type": "code",
   "execution_count": 5,
   "id": "b5a408f2-a5fa-4061-852b-c45ec835c155",
   "metadata": {},
   "outputs": [
    {
     "name": "stdout",
     "output_type": "stream",
     "text": [
      "Hi My name is Roy\n"
     ]
    }
   ],
   "source": [
    "print(\"Hi My name is Roy\")"
   ]
  },
  {
   "cell_type": "markdown",
   "id": "462fd8d6-47c0-49fb-8fcf-54e29b298ae4",
   "metadata": {},
   "source": [
    "l1 = [4,5,7]\n",
    "### - Defininig Function (Body)\n",
    "### - Arguments\n",
    "### - Call function by the name of it"
   ]
  },
  {
   "cell_type": "code",
   "execution_count": 18,
   "id": "7e120b00-3d55-4077-a580-005d5d96f9fd",
   "metadata": {},
   "outputs": [],
   "source": [
    "def prnt(a):\n",
    "    print(a.lower())"
   ]
  },
  {
   "cell_type": "code",
   "execution_count": 21,
   "id": "2ee26ef0-2ed0-486f-8068-1813c8bce593",
   "metadata": {},
   "outputs": [
    {
     "name": "stdout",
     "output_type": "stream",
     "text": [
      "R\n",
      "r\n",
      "A\n",
      "a\n",
      "N\n",
      "n\n",
      "J\n",
      "j\n",
      "I\n",
      "i\n",
      "T\n",
      "t\n",
      "H\n",
      "h\n"
     ]
    }
   ],
   "source": [
    "str = \"RANJITH\"\n",
    "len(str)\n",
    "\n",
    "for i in range(len(str)):\n",
    "    print(str[i])\n",
    "    prnt(str[i])"
   ]
  },
  {
   "cell_type": "code",
   "execution_count": 13,
   "id": "f69172fa-75d4-4432-97d9-a8c18419a4d9",
   "metadata": {},
   "outputs": [],
   "source": [
    "# Define a function which can do addition of 2 numbers\n",
    "def addition(a,b):\n",
    "    return a+b"
   ]
  },
  {
   "cell_type": "code",
   "execution_count": 14,
   "id": "a44d92fa-944c-4ff7-8274-ce3948930e11",
   "metadata": {},
   "outputs": [
    {
     "name": "stdout",
     "output_type": "stream",
     "text": [
      "The addition is 11\n"
     ]
    }
   ],
   "source": [
    "a = 5\n",
    "b = 6\n",
    "# Calling the function to do the addition\n",
    "c = addition(a,b)\n",
    "print(\"The addition is\",c)"
   ]
  },
  {
   "cell_type": "code",
   "execution_count": 48,
   "id": "51299496-a632-4bae-81dd-f4db90214924",
   "metadata": {},
   "outputs": [],
   "source": [
    "def names(nam):\n",
    "    a1,b1 = nam.split()\n",
    "    print(\"First Name is\",a1)\n",
    "    print(\"Last Name is\",b1)"
   ]
  },
  {
   "cell_type": "code",
   "execution_count": 51,
   "id": "8da6d7fe-4799-49f1-915a-6fa2c331d829",
   "metadata": {},
   "outputs": [
    {
     "ename": "NameError",
     "evalue": "name 'a1' is not defined",
     "output_type": "error",
     "traceback": [
      "\u001b[1;31m---------------------------------------------------------------------------\u001b[0m",
      "\u001b[1;31mNameError\u001b[0m                                 Traceback (most recent call last)",
      "Cell \u001b[1;32mIn[51], line 1\u001b[0m\n\u001b[1;32m----> 1\u001b[0m \u001b[43ma1\u001b[49m\n",
      "\u001b[1;31mNameError\u001b[0m: name 'a1' is not defined"
     ]
    }
   ],
   "source": [
    "a1"
   ]
  },
  {
   "cell_type": "code",
   "execution_count": 49,
   "id": "eaefa7f7-1c59-42f0-bece-55f2c2670d90",
   "metadata": {},
   "outputs": [
    {
     "name": "stdout",
     "output_type": "stream",
     "text": [
      "First Name is Sam\n",
      "Last Name is Johnson\n",
      "First Name is John\n",
      "Last Name is Wickson\n",
      "First Name is vicky\n",
      "Last Name is Lehhm\n"
     ]
    }
   ],
   "source": [
    "# Delimiter / Sepator\n",
    "l1 = ['Sam Johnson','John Wickson','vicky Lehhm']\n",
    "\n",
    "for i in range(len(l1)):\n",
    "    names(l1[i])\n"
   ]
  },
  {
   "cell_type": "code",
   "execution_count": null,
   "id": "861a40d4-378d-4647-a386-7695c0b1c263",
   "metadata": {},
   "outputs": [],
   "source": [
    "# Assignment\n",
    "# Take a list of Whole Numbers\n",
    "# User will provide the no of items\n",
    "# Define a function to calculate all prime numbers\n",
    "# Prime numbers are divisible by itself & 1\n",
    "# Store all prime numbers in a new List\n",
    "\n",
    "l1 = [1,2,3,4,5,6,7]"
   ]
  },
  {
   "cell_type": "code",
   "execution_count": null,
   "id": "a32b43a5-423c-459a-8ace-a14d2ad37860",
   "metadata": {},
   "outputs": [],
   "source": [
    "# def prime(num):\n",
    "#     -- if num is prime:\n",
    "#         return num"
   ]
  },
  {
   "cell_type": "code",
   "execution_count": 37,
   "id": "fa96c635-d4d5-4ffb-988a-a5057543f302",
   "metadata": {},
   "outputs": [
    {
     "data": {
      "text/plain": [
       "[3, 4, 5, 6]"
      ]
     },
     "execution_count": 37,
     "metadata": {},
     "output_type": "execute_result"
    }
   ],
   "source": [
    "### List Comprehension\n",
    "### List Name = [Item (For Loop for N Times)]\n",
    "l1 = [3,4,5,6]\n",
    "l1"
   ]
  },
  {
   "cell_type": "code",
   "execution_count": 44,
   "id": "b60cc2af-f046-43a8-8304-20c6d085168e",
   "metadata": {},
   "outputs": [
    {
     "data": {
      "text/plain": [
       "[0, 1, 2, 3, 4, 5, 6, 7, 8, 9]"
      ]
     },
     "execution_count": 44,
     "metadata": {},
     "output_type": "execute_result"
    }
   ],
   "source": [
    "n = input()\n",
    "l2 = [i for i in range(n)]\n",
    "l2"
   ]
  },
  {
   "cell_type": "code",
   "execution_count": 45,
   "id": "ca6bd152-e104-4c27-9880-0810ecfbd6cd",
   "metadata": {},
   "outputs": [
    {
     "data": {
      "text/plain": [
       "[3, 4, 5, 6, 7, 8, 9]"
      ]
     },
     "execution_count": 45,
     "metadata": {},
     "output_type": "execute_result"
    }
   ],
   "source": [
    "l2 = [i for i in range(10) if i > 2]\n",
    "l2"
   ]
  },
  {
   "cell_type": "code",
   "execution_count": 46,
   "id": "492354a8-296b-4e46-a172-fdc7b6866551",
   "metadata": {},
   "outputs": [
    {
     "data": {
      "text/plain": [
       "[0, 2, 4, 6, 8]"
      ]
     },
     "execution_count": 46,
     "metadata": {},
     "output_type": "execute_result"
    }
   ],
   "source": [
    "l2 = [i for i in range(10) if i % 2==0]\n",
    "l2"
   ]
  },
  {
   "cell_type": "code",
   "execution_count": 47,
   "id": "a23b3e2c-f435-450a-84d6-914570a70978",
   "metadata": {},
   "outputs": [
    {
     "data": {
      "text/plain": [
       "[1, 3, 5, 7, 9]"
      ]
     },
     "execution_count": 47,
     "metadata": {},
     "output_type": "execute_result"
    }
   ],
   "source": [
    "l2 = [i for i in range(10) if i % 2 !=0]\n",
    "l2"
   ]
  },
  {
   "cell_type": "code",
   "execution_count": null,
   "id": "3327071c-358d-4fa3-b109-37aea9c9b1fe",
   "metadata": {},
   "outputs": [],
   "source": [
    "# Define a function which can do addition of 2 numbers\n",
    "def addition(a,b):\n",
    "    return a+b\n",
    "\n",
    "# Variables within function body are parameters\n",
    "# Variables used to call a function are arguments"
   ]
  },
  {
   "cell_type": "code",
   "execution_count": null,
   "id": "983d85ad-c9cf-4e71-af60-8c9c50d0ab41",
   "metadata": {},
   "outputs": [],
   "source": [
    "# Global - are global variables which we can access throughout the notebook session/cells \n",
    "# Local - are variables limited to only the function body"
   ]
  },
  {
   "cell_type": "code",
   "execution_count": 50,
   "id": "6c4a1535-ff03-4f7e-aeda-68d9e3c11730",
   "metadata": {},
   "outputs": [
    {
     "data": {
      "text/plain": [
       "['Sam Johnson', 'John Wickson', 'vicky Lehhm']"
      ]
     },
     "execution_count": 50,
     "metadata": {},
     "output_type": "execute_result"
    }
   ],
   "source": [
    "l1"
   ]
  },
  {
   "cell_type": "markdown",
   "id": "ce92d7bb-3e91-4da2-a9d4-047559e1d89c",
   "metadata": {},
   "source": [
    "### 4 types of Function Arguments\n",
    " - Default Arguments\n",
    " - Keyword Arguments\n",
    " - Arbitrary Arguments\n",
    " - Required Arguments- List"
   ]
  },
  {
   "cell_type": "code",
   "execution_count": 53,
   "id": "54d01e22-8d09-47e5-bccc-3d22a822f89c",
   "metadata": {},
   "outputs": [
    {
     "name": "stdout",
     "output_type": "stream",
     "text": [
      "Hi Ranjith\n",
      "Hello Ranjith\n"
     ]
    }
   ],
   "source": [
    "def welcome(name,greet=\"Hi\"):\n",
    "    print(greet,name)\n",
    "\n",
    "welcome(\"Ranjith\")\n",
    "welcome(\"Ranjith\",\"Hello\")"
   ]
  },
  {
   "cell_type": "code",
   "execution_count": null,
   "id": "30940577-c3dd-4abd-9166-530e496884a1",
   "metadata": {},
   "outputs": [],
   "source": [
    "def welcome(name,)"
   ]
  },
  {
   "cell_type": "code",
   "execution_count": null,
   "id": "7241aa1d-b19e-43d8-8c46-b8990eccd858",
   "metadata": {},
   "outputs": [],
   "source": []
  }
 ],
 "metadata": {
  "kernelspec": {
   "display_name": "Python 3 (ipykernel)",
   "language": "python",
   "name": "python3"
  },
  "language_info": {
   "codemirror_mode": {
    "name": "ipython",
    "version": 3
   },
   "file_extension": ".py",
   "mimetype": "text/x-python",
   "name": "python",
   "nbconvert_exporter": "python",
   "pygments_lexer": "ipython3",
   "version": "3.12.2"
  }
 },
 "nbformat": 4,
 "nbformat_minor": 5
}
