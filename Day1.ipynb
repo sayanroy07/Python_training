{
 "cells": [
  {
   "cell_type": "markdown",
   "id": "ea80ca47-3edc-4386-bc6f-9a57fc04fdca",
   "metadata": {},
   "source": [
    "• Variables\n",
    "• Data types\n",
    "• Operands and expressions\n",
    "• Accepting user input and eval function\n",
    "• Strings manipulation\n",
    "• Conditional statements\n",
    "• Looping statements"
   ]
  },
  {
   "cell_type": "code",
   "execution_count": 8,
   "id": "f48916e2-12e0-4353-8e9a-cb2ca94db8de",
   "metadata": {},
   "outputs": [
    {
     "name": "stdout",
     "output_type": "stream",
     "text": [
      "<class 'int'>\n"
     ]
    }
   ],
   "source": [
    "y=45\n",
    "print(type(y))"
   ]
  },
  {
   "cell_type": "code",
   "execution_count": 5,
   "id": "55f13164-ab7d-4db6-befd-f4cddf5b2bc3",
   "metadata": {},
   "outputs": [
    {
     "name": "stdout",
     "output_type": "stream",
     "text": [
      "45\n"
     ]
    }
   ],
   "source": [
    "print(y)"
   ]
  },
  {
   "cell_type": "code",
   "execution_count": 9,
   "id": "008a3b0c-cdfa-435b-a0aa-7d9a3354bb4c",
   "metadata": {},
   "outputs": [
    {
     "name": "stdout",
     "output_type": "stream",
     "text": [
      "<class 'float'>\n"
     ]
    }
   ],
   "source": [
    "x = 5.6985\n",
    "print(type(x))"
   ]
  },
  {
   "cell_type": "code",
   "execution_count": 11,
   "id": "a6dc1ef4-00ba-4f75-b224-f957dce97856",
   "metadata": {},
   "outputs": [
    {
     "name": "stdout",
     "output_type": "stream",
     "text": [
      "<class 'str'>\n"
     ]
    }
   ],
   "source": [
    "r = 'Ranjith'\n",
    "print(type(r))"
   ]
  },
  {
   "cell_type": "code",
   "execution_count": 12,
   "id": "71bc22db-a132-45ee-be17-57fa15acaba0",
   "metadata": {},
   "outputs": [
    {
     "data": {
      "text/plain": [
       "bool"
      ]
     },
     "execution_count": 12,
     "metadata": {},
     "output_type": "execute_result"
    }
   ],
   "source": [
    "y = True\n",
    "type(y)"
   ]
  },
  {
   "cell_type": "markdown",
   "id": "1571429f-987c-4b16-9e43-ac8e94b3d852",
   "metadata": {},
   "source": [
    "# String, List, Tuples, Dictionary, Sets"
   ]
  },
  {
   "cell_type": "code",
   "execution_count": 21,
   "id": "de15a3e9-2a48-4c7d-a9ed-7c674fdd928b",
   "metadata": {},
   "outputs": [
    {
     "data": {
      "text/plain": [
       "'Syni '"
      ]
     },
     "execution_count": 21,
     "metadata": {},
     "output_type": "execute_result"
    }
   ],
   "source": [
    "str = \"Siyan is from Kerala\"\n",
    "# Recommendded Starts with 0, 1, 2, ...\n",
    "# Extreme end starts with -1\n",
    "# Comment -->\n",
    "str[0:10:2]\n",
    "# str [Starting position : < Position : Default is 1 ]"
   ]
  },
  {
   "cell_type": "code",
   "execution_count": 23,
   "id": "4c0bed54-ad90-4047-81cc-21239ffe6f66",
   "metadata": {},
   "outputs": [
    {
     "data": {
      "text/plain": [
       "'alareK morf si nayiS'"
      ]
     },
     "execution_count": 23,
     "metadata": {},
     "output_type": "execute_result"
    }
   ],
   "source": [
    "str[::-1]"
   ]
  },
  {
   "cell_type": "code",
   "execution_count": 30,
   "id": "0b499ad7-ada7-41bb-bf1e-be6d51673981",
   "metadata": {},
   "outputs": [
    {
     "data": {
      "text/plain": [
       "14"
      ]
     },
     "execution_count": 30,
     "metadata": {},
     "output_type": "execute_result"
    }
   ],
   "source": [
    "# Tab\n",
    "# Shift + Tab\n",
    "str1 = str.find('K')\n",
    "str1"
   ]
  },
  {
   "cell_type": "code",
   "execution_count": 54,
   "id": "3dc87e8e-5f58-4910-a711-763876825be0",
   "metadata": {},
   "outputs": [
    {
     "data": {
      "text/plain": [
       "5"
      ]
     },
     "execution_count": 54,
     "metadata": {},
     "output_type": "execute_result"
    }
   ],
   "source": [
    "l1 = [12,5.678,'Ranjith',True,'er']\n",
    "len(l1)"
   ]
  },
  {
   "cell_type": "code",
   "execution_count": 40,
   "id": "c56dc97b-1f04-4ed7-b80d-6779432a3267",
   "metadata": {},
   "outputs": [
    {
     "data": {
      "text/plain": [
       "'er'"
      ]
     },
     "execution_count": 40,
     "metadata": {},
     "output_type": "execute_result"
    }
   ],
   "source": [
    "l1[4]"
   ]
  },
  {
   "cell_type": "code",
   "execution_count": 50,
   "id": "6a471730-7e4f-4536-b716-27abb39fb09b",
   "metadata": {},
   "outputs": [
    {
     "data": {
      "text/plain": [
       "[12, 5.678, 'Ranjith', True, 'er', [568, 45]]"
      ]
     },
     "execution_count": 50,
     "metadata": {},
     "output_type": "execute_result"
    }
   ],
   "source": [
    "# Append & Extend\n",
    "l1.append([568,45])\n",
    "l1"
   ]
  },
  {
   "cell_type": "code",
   "execution_count": 51,
   "id": "53854dbd-a2f9-4e83-a63e-cb5d054c7744",
   "metadata": {},
   "outputs": [
    {
     "data": {
      "text/plain": [
       "6"
      ]
     },
     "execution_count": 51,
     "metadata": {},
     "output_type": "execute_result"
    }
   ],
   "source": [
    "len(l1)"
   ]
  },
  {
   "cell_type": "code",
   "execution_count": 53,
   "id": "e7d07e85-225a-45a3-9fd6-2b473f4ba0e6",
   "metadata": {},
   "outputs": [
    {
     "data": {
      "text/plain": [
       "[568, 45]"
      ]
     },
     "execution_count": 53,
     "metadata": {},
     "output_type": "execute_result"
    }
   ],
   "source": [
    "l1[5]"
   ]
  },
  {
   "cell_type": "code",
   "execution_count": 55,
   "id": "9606731b-84ab-4966-8fec-2651969c2596",
   "metadata": {},
   "outputs": [
    {
     "data": {
      "text/plain": [
       "[12, 5.678, 'Ranjith', True, 'er', 56, 34]"
      ]
     },
     "execution_count": 55,
     "metadata": {},
     "output_type": "execute_result"
    }
   ],
   "source": [
    "l1.extend([56,34])\n",
    "l1"
   ]
  },
  {
   "cell_type": "code",
   "execution_count": 56,
   "id": "5f2f697f-c899-4b41-8aad-c138fdd119fc",
   "metadata": {},
   "outputs": [
    {
     "data": {
      "text/plain": [
       "56"
      ]
     },
     "execution_count": 56,
     "metadata": {},
     "output_type": "execute_result"
    }
   ],
   "source": [
    "l1[5]"
   ]
  },
  {
   "cell_type": "code",
   "execution_count": 57,
   "id": "f6c47669-2b90-492c-9c33-5e8263ce9a5f",
   "metadata": {},
   "outputs": [
    {
     "data": {
      "text/plain": [
       "[1, 2, 3, 4, 4, 5, 6, 7]"
      ]
     },
     "execution_count": 57,
     "metadata": {},
     "output_type": "execute_result"
    }
   ],
   "source": [
    "l1 = [1,2,3,4]\n",
    "l2 = [4,5,6,7]\n",
    "l1+l2"
   ]
  },
  {
   "cell_type": "code",
   "execution_count": 60,
   "id": "fd3c3fc0-f166-4c58-991d-b6502ac9a629",
   "metadata": {},
   "outputs": [
    {
     "data": {
      "text/plain": [
       "(1, 2, 3, 4, 5)"
      ]
     },
     "execution_count": 60,
     "metadata": {},
     "output_type": "execute_result"
    }
   ],
   "source": [
    "tup = (1,2,3,4,5)\n",
    "tup\n",
    "\n",
    "# List is Mutable & Tuple is Immutable\n",
    "# List if slow & Tuple is fast"
   ]
  },
  {
   "cell_type": "code",
   "execution_count": 62,
   "id": "5d1d87f7-5458-457d-ad77-2cc4f2253e7a",
   "metadata": {},
   "outputs": [
    {
     "data": {
      "text/plain": [
       "3"
      ]
     },
     "execution_count": 62,
     "metadata": {},
     "output_type": "execute_result"
    }
   ],
   "source": [
    "tup[0]+tup[1]"
   ]
  },
  {
   "cell_type": "code",
   "execution_count": 75,
   "id": "abbdbc59-0d65-4965-b633-42c9ae8e6a7f",
   "metadata": {},
   "outputs": [
    {
     "name": "stdout",
     "output_type": "stream",
     "text": [
      "{1, 2.001, 3.4, 2, 5, 6, 41, 44}\n"
     ]
    }
   ],
   "source": [
    "s1 = set([1,2.001,3.4,44,6])\n",
    "s2 = set([1,2,5,41,6])\n",
    "s3 = s1.intersection(s2)\n",
    "s3 = s1.difference(s2) # s1 - s2 \n",
    "s3 = s1.union(s2) # s1 + s2\n",
    "print(s3)"
   ]
  },
  {
   "cell_type": "code",
   "execution_count": 77,
   "id": "5505e32d-9027-4a4d-b207-7a7d4d9617d6",
   "metadata": {},
   "outputs": [
    {
     "data": {
      "text/plain": [
       "set"
      ]
     },
     "execution_count": 77,
     "metadata": {},
     "output_type": "execute_result"
    }
   ],
   "source": [
    "type(s1)"
   ]
  },
  {
   "cell_type": "code",
   "execution_count": 93,
   "id": "86d9f89e-adb8-4c6e-93d4-684ae12bfd68",
   "metadata": {},
   "outputs": [],
   "source": [
    "# Dictionary\n",
    "# Key + Value"
   ]
  },
  {
   "cell_type": "code",
   "execution_count": 91,
   "id": "7ec6f508-45ef-4c8a-830b-464955a01481",
   "metadata": {},
   "outputs": [
    {
     "data": {
      "text/plain": [
       "'Value1'"
      ]
     },
     "execution_count": 91,
     "metadata": {},
     "output_type": "execute_result"
    }
   ],
   "source": [
    "dict = {'key1':'Value1','key2':'Value2'}\n",
    "dict[\"key1\"]"
   ]
  },
  {
   "cell_type": "code",
   "execution_count": 92,
   "id": "892710f2-22aa-447e-8fb2-79101589996a",
   "metadata": {},
   "outputs": [
    {
     "data": {
      "text/plain": [
       "dict_items([('key1', 'Value1'), ('key2', 'Value2')])"
      ]
     },
     "execution_count": 92,
     "metadata": {},
     "output_type": "execute_result"
    }
   ],
   "source": [
    "dict.items()"
   ]
  },
  {
   "cell_type": "code",
   "execution_count": 97,
   "id": "fdf3b393-b20b-462f-9f0a-a42de6b49fe0",
   "metadata": {},
   "outputs": [
    {
     "name": "stdin",
     "output_type": "stream",
     "text": [
      "Enter a value si\n"
     ]
    },
    {
     "name": "stdout",
     "output_type": "stream",
     "text": [
      "si\n"
     ]
    }
   ],
   "source": [
    "val = input(\"Enter a value\")\n",
    "print(val)"
   ]
  },
  {
   "cell_type": "markdown",
   "id": "ee9d874b-aa2c-40fa-9064-dae95e8cc8c9",
   "metadata": {},
   "source": [
    "#### Conditional Statement"
   ]
  },
  {
   "cell_type": "code",
   "execution_count": 2,
   "id": "5d0755e6-183b-40da-8d10-13ae256e91cb",
   "metadata": {},
   "outputs": [
    {
     "name": "stdout",
     "output_type": "stream",
     "text": [
      "x is not 67\n",
      "x is not 67\n",
      "x is not 67\n",
      "x is not 67\n"
     ]
    }
   ],
   "source": [
    "# PEP\n",
    "# Indentation\n",
    "# Nested Condition\n",
    "x = 69\n",
    "y = 10\n",
    "if x == 67 and y < 15:\n",
    "    print(\"x is 67\")\n",
    "elif x>65 and y >15:\n",
    "    print(\"Execute this part\")\n",
    "else:\n",
    "    print(\"x is not 67\")\n",
    "    print(\"x is not 67\")\n",
    "    print(\"x is not 67\")\n",
    "    print(\"x is not 67\")"
   ]
  },
  {
   "cell_type": "code",
   "execution_count": 7,
   "id": "a4c119a0-bb30-432b-a6db-c1522260a032",
   "metadata": {},
   "outputs": [
    {
     "data": {
      "text/plain": [
       "1"
      ]
     },
     "execution_count": 7,
     "metadata": {},
     "output_type": "execute_result"
    }
   ],
   "source": [
    "# Even or Odd\n",
    "x = 55\n",
    "# Modulus\n",
    "y = x % 2\n",
    "y"
   ]
  },
  {
   "cell_type": "code",
   "execution_count": null,
   "id": "dfac1d11-b9f2-464f-a369-36e0247950a9",
   "metadata": {},
   "outputs": [],
   "source": [
    "# Single equal to is to assign a variable\n",
    "# Double equal to is to check 2 values\n",
    "\n"
   ]
  },
  {
   "cell_type": "code",
   "execution_count": 9,
   "id": "6083e87a-06c8-4ebc-bc8e-4c6b8a65ada1",
   "metadata": {},
   "outputs": [
    {
     "name": "stdout",
     "output_type": "stream",
     "text": [
      "This is an Even Number\n"
     ]
    }
   ],
   "source": [
    "x = 54\n",
    "\n",
    "if x % 2 == 1:\n",
    "    print(\"Its an Odd Number\")\n",
    "else:\n",
    "    print(\"This is an Even Number\")"
   ]
  },
  {
   "cell_type": "code",
   "execution_count": null,
   "id": "f85cb10e-a62d-4c28-af1e-c70c4518ef86",
   "metadata": {},
   "outputs": [],
   "source": [
    "x = int(input(\"Enter a no\"))\n",
    "if x % 2 == 1:\n",
    "    print(\"Its an Odd Number\")\n",
    "else:\n",
    "    print(\"This is an Even Number\")"
   ]
  },
  {
   "cell_type": "code",
   "execution_count": 18,
   "id": "953d0436-60f5-4b6a-9018-232e30454c04",
   "metadata": {},
   "outputs": [
    {
     "name": "stdout",
     "output_type": "stream",
     "text": [
      "they are mixed\n"
     ]
    }
   ],
   "source": [
    "# AND / OR\n",
    "\n",
    "x = 54 \n",
    "y = 99\n",
    "\n",
    "if x % 2 == 1 and y % 2 == 1:\n",
    "    print(\"Both are Odd Number\")\n",
    "elif x % 2 == 0 and y % 2 == 0:\n",
    "    print(\"Both are Even Number\")\n",
    "else:\n",
    "    print(\"they are mixed\")"
   ]
  },
  {
   "cell_type": "markdown",
   "id": "2564063e-1d16-4ad7-814d-1551c11282ee",
   "metadata": {},
   "source": [
    "#### Loops"
   ]
  },
  {
   "cell_type": "code",
   "execution_count": 39,
   "id": "fe09a29f-4057-4e18-91b5-5b70a62d1c78",
   "metadata": {},
   "outputs": [
    {
     "name": "stdout",
     "output_type": "stream",
     "text": [
      "0\n",
      "2\n",
      "4\n",
      "6\n",
      "8\n"
     ]
    }
   ],
   "source": [
    "# For Loop (No of Iterations)\n",
    "# While (Based on a condition)\n",
    "\n",
    "for i in range(0,10,2):\n",
    "    print(i)"
   ]
  },
  {
   "cell_type": "code",
   "execution_count": null,
   "id": "8bb524f7-216f-40c5-8374-5ed4519c4da2",
   "metadata": {},
   "outputs": [],
   "source": [
    "range(10)"
   ]
  },
  {
   "cell_type": "code",
   "execution_count": 34,
   "id": "789091a8-722d-41cc-a18e-eeb43177e07f",
   "metadata": {},
   "outputs": [
    {
     "name": "stdout",
     "output_type": "stream",
     "text": [
      "0\n",
      "1\n",
      "2\n",
      "3\n",
      "4\n",
      "5\n",
      "6\n"
     ]
    }
   ],
   "source": [
    "# Infinite Loop\n",
    "i=0\n",
    "while(i<=6):\n",
    "    print(i)\n",
    "    #i=i+1"
   ]
  },
  {
   "cell_type": "code",
   "execution_count": 43,
   "id": "c3fac638-bcf2-4d8d-af1a-0037208a2176",
   "metadata": {},
   "outputs": [
    {
     "name": "stdout",
     "output_type": "stream",
     "text": [
      "0\n",
      "1\n",
      "2\n",
      "3\n",
      "4\n",
      "5\n"
     ]
    }
   ],
   "source": [
    "i=0\n",
    "while(i<6):\n",
    "    print(i)\n",
    "    i=i+1\n",
    "    #i+=1"
   ]
  },
  {
   "cell_type": "code",
   "execution_count": null,
   "id": "726d10f6-32e0-4d63-a415-2b0ab42328b8",
   "metadata": {},
   "outputs": [],
   "source": [
    "# Continue / Break"
   ]
  },
  {
   "cell_type": "code",
   "execution_count": 45,
   "id": "a65f893b-3a2e-4cba-9bb1-1d31ea743f69",
   "metadata": {},
   "outputs": [
    {
     "name": "stdout",
     "output_type": "stream",
     "text": [
      "1\n",
      "2\n",
      "3\n"
     ]
    }
   ],
   "source": [
    "i=1\n",
    "while (i <6):\n",
    "    print(i)\n",
    "    if i==3:\n",
    "        break\n",
    "    i+=1"
   ]
  },
  {
   "cell_type": "code",
   "execution_count": 46,
   "id": "2c6646da-6036-4a12-887d-fe3d1eec6bb2",
   "metadata": {},
   "outputs": [
    {
     "name": "stdout",
     "output_type": "stream",
     "text": [
      "1\n",
      "2\n",
      "4\n",
      "5\n",
      "6\n"
     ]
    }
   ],
   "source": [
    "i=0\n",
    "while (i<6):\n",
    "    i+=1\n",
    "    if i==3:\n",
    "        continue\n",
    "    print(i)"
   ]
  },
  {
   "cell_type": "code",
   "execution_count": 48,
   "id": "9936adde-3c11-427b-84fc-dc59d3f9da29",
   "metadata": {},
   "outputs": [
    {
     "data": {
      "text/plain": [
       "5"
      ]
     },
     "execution_count": 48,
     "metadata": {},
     "output_type": "execute_result"
    }
   ],
   "source": [
    "l1 = ['Vijay','Rajni','Kamal','NTR','Charan']\n",
    "len(l1)"
   ]
  },
  {
   "cell_type": "code",
   "execution_count": 52,
   "id": "f9049338-eaec-4d6d-b902-2a459f7cd94a",
   "metadata": {},
   "outputs": [
    {
     "name": "stdout",
     "output_type": "stream",
     "text": [
      "Vijay\n",
      "Rajni\n",
      "Kamal\n",
      "NTR\n",
      "Charan\n"
     ]
    }
   ],
   "source": [
    "for i in l1:\n",
    "    print(i)"
   ]
  },
  {
   "cell_type": "code",
   "execution_count": 57,
   "id": "4aa5d026-e398-4a16-ad5d-7970411e2317",
   "metadata": {},
   "outputs": [
    {
     "name": "stdout",
     "output_type": "stream",
     "text": [
      "Vijay\n",
      "Rajni\n",
      "Kamal\n"
     ]
    }
   ],
   "source": [
    "for i in range(len(l1)):\n",
    "    print(l1[i])\n",
    "    if l1[i]=='Kamal':\n",
    "        break"
   ]
  },
  {
   "cell_type": "code",
   "execution_count": 67,
   "id": "1bd43f8f-ddab-4bf9-bd6c-15689cf8b94a",
   "metadata": {},
   "outputs": [
    {
     "name": "stdout",
     "output_type": "stream",
     "text": [
      "INSIDE J LOOP\n",
      "INSIDE J LOOP\n",
      "INSIDE J LOOP\n",
      "Inside i loop\n",
      "INSIDE J LOOP\n",
      "INSIDE J LOOP\n",
      "INSIDE J LOOP\n",
      "Inside i loop\n",
      "INSIDE J LOOP\n",
      "INSIDE J LOOP\n",
      "INSIDE J LOOP\n",
      "Inside i loop\n",
      "INSIDE J LOOP\n",
      "INSIDE J LOOP\n",
      "INSIDE J LOOP\n",
      "Inside i loop\n",
      "INSIDE J LOOP\n",
      "INSIDE J LOOP\n",
      "INSIDE J LOOP\n",
      "Inside i loop\n"
     ]
    }
   ],
   "source": [
    "l1 = ['Vijay','Rajni','Kamal','NTR','Charan']\n",
    "l2 = [56,54,21]\n",
    "\n",
    "for i in l1:\n",
    "    for j in l2:\n",
    "        print(\"INSIDE J LOOP\")\n",
    "    print(\"Inside i loop\")"
   ]
  },
  {
   "cell_type": "markdown",
   "id": "b2e2706c-be3c-47e9-91a2-ebd5967ef33a",
   "metadata": {},
   "source": [
    "### Coding"
   ]
  },
  {
   "cell_type": "code",
   "execution_count": 7,
   "id": "99be4ece-8df9-42a3-87d3-fae74af4e816",
   "metadata": {},
   "outputs": [
    {
     "name": "stdout",
     "output_type": "stream",
     "text": [
      "0 th position: 5\n",
      "1 th position: 11\n",
      "2 th position: 19\n",
      "3 th position: 23\n",
      "4 th position: 28\n",
      "5 th position: 35\n"
     ]
    },
    {
     "data": {
      "text/plain": [
       "35"
      ]
     },
     "execution_count": 7,
     "metadata": {},
     "output_type": "execute_result"
    }
   ],
   "source": [
    "l1 = [5,6,8,4,5,7]\n",
    "#l2 = []\n",
    "sum = 0\n",
    "for i in range(len(l1)):\n",
    "    sum = sum + l1[i]\n",
    "    print(i,\"th position:\",sum)\n",
    "    #l2.append(sum)\n",
    "\n",
    "sum"
   ]
  },
  {
   "cell_type": "code",
   "execution_count": null,
   "id": "1a764bed-2516-4296-94e1-acd6c3f068fa",
   "metadata": {},
   "outputs": [],
   "source": [
    "1 2 3 4 5"
   ]
  },
  {
   "cell_type": "code",
   "execution_count": 17,
   "id": "07cd9740-6628-4545-afa6-b59b3fce4d4c",
   "metadata": {},
   "outputs": [
    {
     "name": "stdout",
     "output_type": "stream",
     "text": [
      "  \n",
      "\n",
      "#  \n",
      "\n",
      "##  \n",
      "\n",
      "###  \n",
      "\n",
      "####  \n",
      "\n",
      "#####  \n",
      "\n"
     ]
    }
   ],
   "source": [
    "for i in range(6):\n",
    "    print(i*'#')\n",
    "    print('')"
   ]
  }
 ],
 "metadata": {
  "kernelspec": {
   "display_name": "Python 3 (ipykernel)",
   "language": "python",
   "name": "python3"
  },
  "language_info": {
   "codemirror_mode": {
    "name": "ipython",
    "version": 3
   },
   "file_extension": ".py",
   "mimetype": "text/x-python",
   "name": "python",
   "nbconvert_exporter": "python",
   "pygments_lexer": "ipython3",
   "version": "3.12.2"
  }
 },
 "nbformat": 4,
 "nbformat_minor": 5
}
