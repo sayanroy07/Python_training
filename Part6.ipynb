{
 "cells": [
  {
   "cell_type": "markdown",
   "id": "1a957214-a384-4181-bd62-7cdcb9e9d2f5",
   "metadata": {},
   "source": [
    " - Numpy\n",
    " - Array operations\n",
    " - Slicing\n",
    " - Functions\n",
    " - Matrix\n",
    " - Pandas\n",
    " - Series\t\t\t"
   ]
  },
  {
   "cell_type": "code",
   "execution_count": 2,
   "id": "f1d4b4d8-0c0f-4726-b724-848b7cf1734b",
   "metadata": {},
   "outputs": [],
   "source": [
    "import numpy as np"
   ]
  },
  {
   "cell_type": "code",
   "execution_count": 5,
   "id": "aada988c-4715-4f5a-821b-5cd86ae98a00",
   "metadata": {},
   "outputs": [
    {
     "data": {
      "text/plain": [
       "array([0, 1, 2, 3, 4])"
      ]
     },
     "execution_count": 5,
     "metadata": {},
     "output_type": "execute_result"
    }
   ],
   "source": [
    "arr1 = np.arange(5)\n",
    "arr1"
   ]
  },
  {
   "cell_type": "code",
   "execution_count": 12,
   "id": "ba8ceef0-2795-4fba-9e6d-a31131ac1dbf",
   "metadata": {},
   "outputs": [
    {
     "data": {
      "text/plain": [
       "dtype('float64')"
      ]
     },
     "execution_count": 12,
     "metadata": {},
     "output_type": "execute_result"
    }
   ],
   "source": [
    "arr2 = np.array([4,5,6.58,7,8])\n",
    "arr2[1].dtype"
   ]
  },
  {
   "cell_type": "code",
   "execution_count": 10,
   "id": "1e214b6d-384f-430c-abcb-dd2818335145",
   "metadata": {},
   "outputs": [
    {
     "data": {
      "text/plain": [
       "dtype('int32')"
      ]
     },
     "execution_count": 10,
     "metadata": {},
     "output_type": "execute_result"
    }
   ],
   "source": [
    "a1 = np.arange(10)\n",
    "a1[2].dtype"
   ]
  },
  {
   "cell_type": "code",
   "execution_count": 14,
   "id": "2a90cbdb-5b9d-444d-968f-d9e399d378d4",
   "metadata": {},
   "outputs": [
    {
     "data": {
      "text/plain": [
       "array([[ 0,  1,  2],\n",
       "       [ 3,  4,  5],\n",
       "       [ 6,  7,  8],\n",
       "       [ 9, 10, 11]])"
      ]
     },
     "execution_count": 14,
     "metadata": {},
     "output_type": "execute_result"
    }
   ],
   "source": [
    "a1 = np.arange(12).reshape(4,3)\n",
    "a1"
   ]
  },
  {
   "cell_type": "code",
   "execution_count": 16,
   "id": "adc3c793-3c9b-4d86-80ac-2b91289f53a0",
   "metadata": {},
   "outputs": [
    {
     "data": {
      "text/plain": [
       "[0, 2, 4, 6, 8]"
      ]
     },
     "execution_count": 16,
     "metadata": {},
     "output_type": "execute_result"
    }
   ],
   "source": [
    "l1 = [i for i in range(10) if i %2==0]\n",
    "l1"
   ]
  },
  {
   "cell_type": "code",
   "execution_count": 29,
   "id": "560bf4a9-e16b-4f12-baee-00a7d1498813",
   "metadata": {},
   "outputs": [],
   "source": [
    "a2 = np.array(l1)\n",
    "a2\n",
    "a4 = np.array([1,2,3,4,5])"
   ]
  },
  {
   "cell_type": "code",
   "execution_count": 22,
   "id": "160e7d32-9fd8-4633-a585-d768a2144fc7",
   "metadata": {},
   "outputs": [
    {
     "data": {
      "text/plain": [
       "array([-1.39498007e-04, -1.47464533e+00, -1.15800776e+00,  1.04522299e+00,\n",
       "        6.82648374e-01])"
      ]
     },
     "execution_count": 22,
     "metadata": {},
     "output_type": "execute_result"
    }
   ],
   "source": [
    "a3 = np.random.randn(5)\n",
    "a3"
   ]
  },
  {
   "cell_type": "code",
   "execution_count": 30,
   "id": "25cd866d-bc63-4a50-bf81-5e2ab93b637f",
   "metadata": {},
   "outputs": [
    {
     "data": {
      "text/plain": [
       "array([ 1,  4,  7, 10, 13])"
      ]
     },
     "execution_count": 30,
     "metadata": {},
     "output_type": "execute_result"
    }
   ],
   "source": [
    "a2+a4"
   ]
  },
  {
   "cell_type": "code",
   "execution_count": 31,
   "id": "b8b5f63b-9302-4ecc-b472-1525f7c98f70",
   "metadata": {},
   "outputs": [
    {
     "data": {
      "text/plain": [
       "array([ 1,  4,  7, 10, 13])"
      ]
     },
     "execution_count": 31,
     "metadata": {},
     "output_type": "execute_result"
    }
   ],
   "source": [
    "a5 = np.add(a2,a4)\n",
    "a5"
   ]
  },
  {
   "cell_type": "code",
   "execution_count": 36,
   "id": "11eadb5c-a820-40a4-b62b-8e8a0925a5d8",
   "metadata": {},
   "outputs": [
    {
     "name": "stdout",
     "output_type": "stream",
     "text": [
      "1\n",
      "4\n",
      "7\n",
      "10\n",
      "13\n"
     ]
    }
   ],
   "source": [
    "for i in range(len(a5)):\n",
    "    print(a5[i])"
   ]
  },
  {
   "cell_type": "code",
   "execution_count": 38,
   "id": "a7a205c2-6a03-443b-a662-5ee6331383d7",
   "metadata": {},
   "outputs": [
    {
     "data": {
      "text/plain": [
       "array([[ 0,  1,  2],\n",
       "       [ 3,  4,  5],\n",
       "       [ 6,  7,  8],\n",
       "       [ 9, 10, 11]])"
      ]
     },
     "execution_count": 38,
     "metadata": {},
     "output_type": "execute_result"
    }
   ],
   "source": [
    "a1"
   ]
  },
  {
   "cell_type": "code",
   "execution_count": 43,
   "id": "9c01cd6f-8adc-46df-9eab-3f0d46d612e7",
   "metadata": {},
   "outputs": [
    {
     "data": {
      "text/plain": [
       "7"
      ]
     },
     "execution_count": 43,
     "metadata": {},
     "output_type": "execute_result"
    }
   ],
   "source": [
    "a1[2][1]"
   ]
  },
  {
   "cell_type": "code",
   "execution_count": 46,
   "id": "248700da-ae04-45f8-947a-064775e702a6",
   "metadata": {},
   "outputs": [
    {
     "data": {
      "text/plain": [
       "array([[ 0,  1,  2],\n",
       "       [ 3,  4,  5],\n",
       "       [ 6,  7,  8],\n",
       "       [ 9, 10, 11]])"
      ]
     },
     "execution_count": 46,
     "metadata": {},
     "output_type": "execute_result"
    }
   ],
   "source": [
    "a1"
   ]
  },
  {
   "cell_type": "code",
   "execution_count": 52,
   "id": "e294ba0b-7709-44aa-b3bb-8547ce048e0c",
   "metadata": {},
   "outputs": [
    {
     "data": {
      "text/plain": [
       "array([[ 1,  2,  3,  4],\n",
       "       [ 5,  6,  7,  8],\n",
       "       [23,  4,  5,  6]])"
      ]
     },
     "execution_count": 52,
     "metadata": {},
     "output_type": "execute_result"
    }
   ],
   "source": [
    "a6 = np.array(\n",
    "    [[1,2,3,4],\n",
    "    [5,6,7,8],\n",
    "    [23,4,5,6]]\n",
    ")\n",
    "a6"
   ]
  },
  {
   "cell_type": "code",
   "execution_count": 66,
   "id": "610a8a57-e3a9-4d96-9b7f-754acdba1aeb",
   "metadata": {},
   "outputs": [
    {
     "data": {
      "text/plain": [
       "6.16667"
      ]
     },
     "execution_count": 66,
     "metadata": {},
     "output_type": "execute_result"
    }
   ],
   "source": [
    "a6.max()\n",
    "a6.min()\n",
    "round(a6.mean(),5)"
   ]
  },
  {
   "cell_type": "code",
   "execution_count": 68,
   "id": "b89edbe7-c3a7-4d10-ab98-b07c57891ee7",
   "metadata": {},
   "outputs": [
    {
     "data": {
      "text/plain": [
       "array([1, 6, 5])"
      ]
     },
     "execution_count": 68,
     "metadata": {},
     "output_type": "execute_result"
    }
   ],
   "source": [
    "a6.diagonal()"
   ]
  },
  {
   "cell_type": "code",
   "execution_count": 69,
   "id": "145514b2-56f7-43f2-bf45-c346d69212ed",
   "metadata": {},
   "outputs": [
    {
     "data": {
      "text/plain": [
       "array([[ 1,  5, 23],\n",
       "       [ 2,  6,  4],\n",
       "       [ 3,  7,  5],\n",
       "       [ 4,  8,  6]])"
      ]
     },
     "execution_count": 69,
     "metadata": {},
     "output_type": "execute_result"
    }
   ],
   "source": [
    "a6.transpose()"
   ]
  },
  {
   "cell_type": "code",
   "execution_count": 71,
   "id": "f7544ae2-31b3-4715-932f-d0316236c458",
   "metadata": {},
   "outputs": [
    {
     "data": {
      "text/plain": [
       "array([[ 1,  2,  3,  4],\n",
       "       [ 5,  6,  7,  8],\n",
       "       [23,  4,  5,  6]])"
      ]
     },
     "execution_count": 71,
     "metadata": {},
     "output_type": "execute_result"
    }
   ],
   "source": [
    "matrix = a6\n",
    "matrix"
   ]
  },
  {
   "cell_type": "code",
   "execution_count": 73,
   "id": "4558ac54-50c2-47cf-a294-5af543e91810",
   "metadata": {},
   "outputs": [],
   "source": [
    "# Create 2 matrix of different dimentions\n",
    "# Matrix Operations - Addition / Subtraction / Multiplication / Division\n",
    "# Matrix /arrays of zeros/ones"
   ]
  },
  {
   "cell_type": "code",
   "execution_count": null,
   "id": "fe962998-ae08-44e8-8465-bd04661e3aa4",
   "metadata": {},
   "outputs": [],
   "source": [
    "input(\"Enter row - \")\n",
    "input(\"Enter column - \")"
   ]
  },
  {
   "cell_type": "code",
   "execution_count": 5,
   "id": "7879e4fd-02d5-49cd-9fd4-0939bf69693d",
   "metadata": {},
   "outputs": [
    {
     "data": {
      "text/plain": [
       "array([[1, 2],\n",
       "       [3, 4],\n",
       "       [5, 6]])"
      ]
     },
     "execution_count": 5,
     "metadata": {},
     "output_type": "execute_result"
    }
   ],
   "source": [
    "import numpy as np\n",
    "matrix1 = np.array([[1,2,3],\n",
    "                    [3,4,5]])\n",
    "matrix1\n",
    "\n",
    "matrix2 = np.array([[1,2],\n",
    "                    [3,4],\n",
    "                    [5,6]])\n",
    "matrix2"
   ]
  },
  {
   "cell_type": "code",
   "execution_count": 16,
   "id": "f2677d9d-5650-4954-bc5d-3839cccf0a75",
   "metadata": {},
   "outputs": [
    {
     "name": "stdout",
     "output_type": "stream",
     "text": [
      "Inside Row loop\n",
      "Inside Col Loop\n",
      "1\n",
      "Inside Col Loop\n",
      "2\n",
      "Inside Col Loop\n",
      "3\n",
      "Inside Row loop\n",
      "Inside Col Loop\n",
      "3\n",
      "Inside Col Loop\n",
      "4\n",
      "Inside Col Loop\n",
      "5\n"
     ]
    }
   ],
   "source": [
    "# Multiplication\n",
    "# col of M1 = rows of M2\n",
    "for i in range(len(matrix1)):\n",
    "    print(\"Inside Row loop\")\n",
    "    for j in range(matrix1.shape[1]):\n",
    "        print(\"Inside Col Loop\")\n",
    "        print(matrix1[i][j])\n",
    "    "
   ]
  },
  {
   "cell_type": "code",
   "execution_count": 12,
   "id": "b109bf04-fbf4-41c1-914f-9bb82f7968b2",
   "metadata": {},
   "outputs": [
    {
     "data": {
      "text/plain": [
       "3"
      ]
     },
     "execution_count": 12,
     "metadata": {},
     "output_type": "execute_result"
    }
   ],
   "source": [
    "matrix1.shape[1]"
   ]
  }
 ],
 "metadata": {
  "kernelspec": {
   "display_name": "Python 3 (ipykernel)",
   "language": "python",
   "name": "python3"
  },
  "language_info": {
   "codemirror_mode": {
    "name": "ipython",
    "version": 3
   },
   "file_extension": ".py",
   "mimetype": "text/x-python",
   "name": "python",
   "nbconvert_exporter": "python",
   "pygments_lexer": "ipython3",
   "version": "3.12.2"
  }
 },
 "nbformat": 4,
 "nbformat_minor": 5
}
