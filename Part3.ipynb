{
 "cells": [
  {
   "cell_type": "code",
   "execution_count": 1,
   "id": "4414eb19-820a-4265-8c48-d25b323e417e",
   "metadata": {},
   "outputs": [],
   "source": [
    "# Assignment\n",
    "# Take a list of Whole Numbers\n",
    "# User will provide the no of items\n",
    "# Define a function to calculate all prime numbers\n",
    "# Prime numbers are divisible by itself & 1\n",
    "# Store all prime numbers in a new List\n",
    "\n",
    "l1 = [1,2,3,4,5,6,7]"
   ]
  },
  {
   "cell_type": "code",
   "execution_count": 3,
   "id": "1dc24fc0-796d-4cad-9b5e-4f023a7024e4",
   "metadata": {},
   "outputs": [
    {
     "data": {
      "text/plain": [
       "[0, 1, 2, 3, 4, 5, 6, 7, 8]"
      ]
     },
     "execution_count": 3,
     "metadata": {},
     "output_type": "execute_result"
    }
   ],
   "source": [
    "num = 9\n",
    "l1 = [x for x in range(num)]\n",
    "l1"
   ]
  },
  {
   "cell_type": "code",
   "execution_count": 16,
   "id": "ba3a52f8-4d08-439b-bf41-b62a59bca4ec",
   "metadata": {},
   "outputs": [
    {
     "name": "stdout",
     "output_type": "stream",
     "text": [
      "12  is not prime\n"
     ]
    }
   ],
   "source": [
    "def prime(a):\n",
    "    if a >1:\n",
    "        for i in range(2,a//2+1):\n",
    "            if (a%i)==0:\n",
    "                print(a,\" is not prime\")\n",
    "                break\n",
    "        else:\n",
    "            print(a,\" is prime\")\n",
    "    else:\n",
    "        print(a,\" is not prime\")\n",
    "        \n",
    "\n",
    "prime(12)"
   ]
  },
  {
   "cell_type": "code",
   "execution_count": 10,
   "id": "06d19b83-cb1d-42e9-ac35-506ae71f19d1",
   "metadata": {},
   "outputs": [
    {
     "data": {
      "text/plain": [
       "5"
      ]
     },
     "execution_count": 10,
     "metadata": {},
     "output_type": "execute_result"
    }
   ],
   "source": [
    "10//2"
   ]
  },
  {
   "cell_type": "code",
   "execution_count": null,
   "id": "168e83eb-4184-40ba-acf9-763045c0d6da",
   "metadata": {},
   "outputs": [],
   "source": []
  },
  {
   "cell_type": "code",
   "execution_count": null,
   "id": "f3cf83cc-74f3-4271-9eb6-2705aa1f528c",
   "metadata": {},
   "outputs": [],
   "source": []
  },
  {
   "cell_type": "code",
   "execution_count": null,
   "id": "ccd503cc-fb06-4b0b-88c0-3a527b0b627c",
   "metadata": {},
   "outputs": [],
   "source": []
  },
  {
   "cell_type": "code",
   "execution_count": null,
   "id": "b5ab0158-144b-4c94-8ae7-ea872f2bd519",
   "metadata": {},
   "outputs": [],
   "source": []
  },
  {
   "cell_type": "code",
   "execution_count": null,
   "id": "43b97602-06f2-4302-a7cb-a3b5ffdfe7b5",
   "metadata": {},
   "outputs": [],
   "source": []
  },
  {
   "cell_type": "code",
   "execution_count": null,
   "id": "10bab122-3ab4-4935-9041-59605d92f41e",
   "metadata": {},
   "outputs": [],
   "source": []
  },
  {
   "cell_type": "code",
   "execution_count": null,
   "id": "bb86642b-0d76-4637-b2be-5aad95f6117c",
   "metadata": {},
   "outputs": [],
   "source": []
  },
  {
   "cell_type": "code",
   "execution_count": null,
   "id": "e707372a-53d8-47db-b175-fca08ac43b27",
   "metadata": {},
   "outputs": [],
   "source": []
  }
 ],
 "metadata": {
  "kernelspec": {
   "display_name": "Python 3 (ipykernel)",
   "language": "python",
   "name": "python3"
  },
  "language_info": {
   "codemirror_mode": {
    "name": "ipython",
    "version": 3
   },
   "file_extension": ".py",
   "mimetype": "text/x-python",
   "name": "python",
   "nbconvert_exporter": "python",
   "pygments_lexer": "ipython3",
   "version": "3.12.2"
  }
 },
 "nbformat": 4,
 "nbformat_minor": 5
}
