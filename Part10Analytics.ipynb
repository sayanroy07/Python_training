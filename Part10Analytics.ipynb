{
 "cells": [
  {
   "cell_type": "code",
   "execution_count": 2,
   "id": "66494362-61c3-4640-bae1-2afa56aca2cb",
   "metadata": {},
   "outputs": [],
   "source": [
    "# Data Analytics - > Data Science"
   ]
  },
  {
   "cell_type": "code",
   "execution_count": 4,
   "id": "00284288-60a8-47f6-a07e-d14ec5a4a679",
   "metadata": {},
   "outputs": [
    {
     "data": {
      "text/html": [
       "<div>\n",
       "<style scoped>\n",
       "    .dataframe tbody tr th:only-of-type {\n",
       "        vertical-align: middle;\n",
       "    }\n",
       "\n",
       "    .dataframe tbody tr th {\n",
       "        vertical-align: top;\n",
       "    }\n",
       "\n",
       "    .dataframe thead th {\n",
       "        text-align: right;\n",
       "    }\n",
       "</style>\n",
       "<table border=\"1\" class=\"dataframe\">\n",
       "  <thead>\n",
       "    <tr style=\"text-align: right;\">\n",
       "      <th></th>\n",
       "      <th>Order ID</th>\n",
       "      <th>Order Date</th>\n",
       "      <th>Order Priority</th>\n",
       "      <th>Order Quantity</th>\n",
       "      <th>Sales</th>\n",
       "      <th>Discount</th>\n",
       "      <th>Ship Mode</th>\n",
       "      <th>Profit</th>\n",
       "      <th>Unit Price</th>\n",
       "      <th>Shipping Cost</th>\n",
       "      <th>Customer Name</th>\n",
       "      <th>Province</th>\n",
       "      <th>Region</th>\n",
       "      <th>Customer Segment</th>\n",
       "      <th>Product Category</th>\n",
       "      <th>Product Sub-Category</th>\n",
       "      <th>Product Base Margin</th>\n",
       "      <th>Ship Date</th>\n",
       "    </tr>\n",
       "  </thead>\n",
       "  <tbody>\n",
       "    <tr>\n",
       "      <th>0</th>\n",
       "      <td>3</td>\n",
       "      <td>13-10-2010</td>\n",
       "      <td>Low</td>\n",
       "      <td>6</td>\n",
       "      <td>261.54</td>\n",
       "      <td>0.04</td>\n",
       "      <td>Regular Air</td>\n",
       "      <td>-213.25</td>\n",
       "      <td>38.94</td>\n",
       "      <td>35.00</td>\n",
       "      <td>Muhammed MacIntyre</td>\n",
       "      <td>Nunavut</td>\n",
       "      <td>Nunavut</td>\n",
       "      <td>Small Business</td>\n",
       "      <td>Office Supplies</td>\n",
       "      <td>Storage &amp; Organization</td>\n",
       "      <td>0.80</td>\n",
       "      <td>20-10-2010</td>\n",
       "    </tr>\n",
       "    <tr>\n",
       "      <th>1</th>\n",
       "      <td>293</td>\n",
       "      <td>01-10-2012</td>\n",
       "      <td>High</td>\n",
       "      <td>49</td>\n",
       "      <td>10123.02</td>\n",
       "      <td>0.07</td>\n",
       "      <td>Delivery Truck</td>\n",
       "      <td>457.81</td>\n",
       "      <td>208.16</td>\n",
       "      <td>68.02</td>\n",
       "      <td>Barry French</td>\n",
       "      <td>Nunavut</td>\n",
       "      <td>Nunavut</td>\n",
       "      <td>Consumer</td>\n",
       "      <td>Office Supplies</td>\n",
       "      <td>Appliances</td>\n",
       "      <td>0.58</td>\n",
       "      <td>02-10-2012</td>\n",
       "    </tr>\n",
       "  </tbody>\n",
       "</table>\n",
       "</div>"
      ],
      "text/plain": [
       "   Order ID  Order Date Order Priority  Order Quantity     Sales  Discount  \\\n",
       "0         3  13-10-2010            Low               6    261.54      0.04   \n",
       "1       293  01-10-2012           High              49  10123.02      0.07   \n",
       "\n",
       "        Ship Mode  Profit  Unit Price  Shipping Cost       Customer Name  \\\n",
       "0     Regular Air -213.25       38.94          35.00  Muhammed MacIntyre   \n",
       "1  Delivery Truck  457.81      208.16          68.02        Barry French   \n",
       "\n",
       "  Province   Region Customer Segment Product Category    Product Sub-Category  \\\n",
       "0  Nunavut  Nunavut   Small Business  Office Supplies  Storage & Organization   \n",
       "1  Nunavut  Nunavut         Consumer  Office Supplies              Appliances   \n",
       "\n",
       "   Product Base Margin   Ship Date  \n",
       "0                 0.80  20-10-2010  \n",
       "1                 0.58  02-10-2012  "
      ]
     },
     "execution_count": 4,
     "metadata": {},
     "output_type": "execute_result"
    }
   ],
   "source": [
    "import pandas as pd\n",
    "df = pd.read_csv(r\"C:\\Users\\User\\Python\\IIITB\\Foundation\\superstore_sales.csv\")\n",
    "df.head(2)"
   ]
  },
  {
   "cell_type": "code",
   "execution_count": 19,
   "id": "66b30db5-5d60-4d58-8d23-e4551d2c3ca0",
   "metadata": {},
   "outputs": [
    {
     "data": {
      "image/png": "[encoded data removed]",
      "text/plain": [
       "<Figure size 640x480 with 1 Axes>"
      ]
     },
     "metadata": {},
     "output_type": "display_data"
    }
   ],
   "source": [
    "# Business Intelligence\n",
    "import seaborn as sns\n",
    "import matplotlib.pyplot as plt\n",
    "sns.boxplot(x=df['Order Quantity'],y=df['Ship Mode'])\n",
    "plt.show()"
   ]
  },
  {
   "cell_type": "code",
   "execution_count": 20,
   "id": "67788aa3-a7a4-4be2-924f-a14e7393eeeb",
   "metadata": {},
   "outputs": [],
   "source": [
    "# Analytics\n",
    "# - Descriptive Analytics (Past Tense)\n",
    "# - Predictive Analytics  (Future) ((Prescriptive Analytics))"
   ]
  },
  {
   "cell_type": "code",
   "execution_count": null,
   "id": "77b599a5-a3c0-4215-905d-a31457f33c76",
   "metadata": {},
   "outputs": [],
   "source": [
    "# - Descriptive Analytics (Past Tense)\n",
    "# Visualization Tools _ Excel, Tableau, Power BI\n",
    "# Analytical Tools _ Excel, SAS, Python"
   ]
  },
  {
   "cell_type": "code",
   "execution_count": 21,
   "id": "9ad739ec-11d8-498c-93e4-460aef91fd67",
   "metadata": {},
   "outputs": [
    {
     "data": {
      "text/plain": [
       "Customer Segment\n",
       "Corporate         3076\n",
       "Home Office       2032\n",
       "Consumer          1649\n",
       "Small Business    1642\n",
       "Name: count, dtype: int64"
      ]
     },
     "execution_count": 21,
     "metadata": {},
     "output_type": "execute_result"
    }
   ],
   "source": [
    "df['Customer Segment'].value_counts()"
   ]
  },
  {
   "cell_type": "code",
   "execution_count": 32,
   "id": "a8089e62-3e62-4476-8867-47468eb1fc82",
   "metadata": {},
   "outputs": [
    {
     "data": {
      "text/html": [
       "<div>\n",
       "<style scoped>\n",
       "    .dataframe tbody tr th:only-of-type {\n",
       "        vertical-align: middle;\n",
       "    }\n",
       "\n",
       "    .dataframe tbody tr th {\n",
       "        vertical-align: top;\n",
       "    }\n",
       "\n",
       "    .dataframe thead th {\n",
       "        text-align: right;\n",
       "    }\n",
       "</style>\n",
       "<table border=\"1\" class=\"dataframe\">\n",
       "  <thead>\n",
       "    <tr style=\"text-align: right;\">\n",
       "      <th></th>\n",
       "      <th>Order Quantity</th>\n",
       "      <th>Sales</th>\n",
       "      <th>Profit</th>\n",
       "      <th>Discount</th>\n",
       "    </tr>\n",
       "    <tr>\n",
       "      <th>Customer Segment</th>\n",
       "      <th></th>\n",
       "      <th></th>\n",
       "      <th></th>\n",
       "      <th></th>\n",
       "    </tr>\n",
       "  </thead>\n",
       "  <tbody>\n",
       "    <tr>\n",
       "      <th>Corporate</th>\n",
       "      <td>78517</td>\n",
       "      <td>1787.680389</td>\n",
       "      <td>599746.00</td>\n",
       "      <td>0.049841</td>\n",
       "    </tr>\n",
       "    <tr>\n",
       "      <th>Home Office</th>\n",
       "      <td>52807</td>\n",
       "      <td>1754.312931</td>\n",
       "      <td>318354.03</td>\n",
       "      <td>0.049444</td>\n",
       "    </tr>\n",
       "    <tr>\n",
       "      <th>Small Business</th>\n",
       "      <td>41693</td>\n",
       "      <td>1698.124841</td>\n",
       "      <td>315708.01</td>\n",
       "      <td>0.049403</td>\n",
       "    </tr>\n",
       "    <tr>\n",
       "      <th>Consumer</th>\n",
       "      <td>41760</td>\n",
       "      <td>1857.859965</td>\n",
       "      <td>287959.94</td>\n",
       "      <td>0.049903</td>\n",
       "    </tr>\n",
       "  </tbody>\n",
       "</table>\n",
       "</div>"
      ],
      "text/plain": [
       "                  Order Quantity        Sales     Profit  Discount\n",
       "Customer Segment                                                  \n",
       "Corporate                  78517  1787.680389  599746.00  0.049841\n",
       "Home Office                52807  1754.312931  318354.03  0.049444\n",
       "Small Business             41693  1698.124841  315708.01  0.049403\n",
       "Consumer                   41760  1857.859965  287959.94  0.049903"
      ]
     },
     "execution_count": 32,
     "metadata": {},
     "output_type": "execute_result"
    }
   ],
   "source": [
    "df.groupby(by=['Customer Segment']).aggregate({'Order Quantity':'sum','Sales':'mean','Profit':'sum','Discount':'mean'}).sort_values(by='Profit',ascending=False)"
   ]
  },
  {
   "cell_type": "code",
   "execution_count": 33,
   "id": "d2656c5d-a6cf-4650-b707-4a9f27da533c",
   "metadata": {},
   "outputs": [],
   "source": [
    "# - Predictive Analytics\n",
    "# Statistics & Mathematics\n",
    "# Visualization Tools _ Excel, Tableau, Power BI\n",
    "# Analytical Tools _ Excel, SAS, Python"
   ]
  },
  {
   "cell_type": "code",
   "execution_count": 35,
   "id": "725bf91d-c7a7-4349-ad48-c1c813df184d",
   "metadata": {},
   "outputs": [],
   "source": [
    "# Average Height of all Indian Males / Females\n",
    "# Observation\n",
    "# Sample - small subset of the population (70 Thousand) 5.5\n",
    "# Population - entire dataset (India - 70 crore) \n",
    "# Extrapolate\n",
    "# Confidence Level (90% / 95% / 99%)"
   ]
  },
  {
   "cell_type": "code",
   "execution_count": 38,
   "id": "22aed3f1-bb33-4d77-8d93-ce46f30833a5",
   "metadata": {},
   "outputs": [],
   "source": [
    "# Types of Samples (Stratified)\n",
    "# Hypothesis Development (NULL Hypothesis / Alternative Hypothesis) {Metrics: (Confidence + Errors) (95% + 5%)}\n",
    "# Statistical Test (Z test / t test / Math Calculation)\n",
    "# Model Validation\n",
    "# Extrapolate to the entire population\n",
    "# 5.6 Feet +- Errors (1.16 Feet)"
   ]
  },
  {
   "cell_type": "code",
   "execution_count": 36,
   "id": "d3fb21f3-1c51-4224-9d48-bd785cb2a93c",
   "metadata": {},
   "outputs": [
    {
     "data": {
      "text/plain": [
       "4.4399999999999995"
      ]
     },
     "execution_count": 36,
     "metadata": {},
     "output_type": "execute_result"
    }
   ],
   "source": [
    "5.6-1.16"
   ]
  },
  {
   "cell_type": "code",
   "execution_count": 37,
   "id": "98706738-3619-4d0d-a677-f1f7ffa30eae",
   "metadata": {},
   "outputs": [
    {
     "data": {
      "text/plain": [
       "6.76"
      ]
     },
     "execution_count": 37,
     "metadata": {},
     "output_type": "execute_result"
    }
   ],
   "source": [
    "5.6+1.16"
   ]
  }
 ],
 "metadata": {
  "kernelspec": {
   "display_name": "Python 3 (ipykernel)",
   "language": "python",
   "name": "python3"
  },
  "language_info": {
   "codemirror_mode": {
    "name": "ipython",
    "version": 3
   },
   "file_extension": ".py",
   "mimetype": "text/x-python",
   "name": "python",
   "nbconvert_exporter": "python",
   "pygments_lexer": "ipython3",
   "version": "3.12.2"
  }
 },
 "nbformat": 4,
 "nbformat_minor": 5
}
